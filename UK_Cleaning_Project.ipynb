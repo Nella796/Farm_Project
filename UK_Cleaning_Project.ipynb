{
 "cells": [
  {
   "cell_type": "code",
   "execution_count": 2,
   "metadata": {},
   "outputs": [],
   "source": [
    "import pandas as pd\n",
    "import re\n",
    "import random"
   ]
  },
  {
   "cell_type": "code",
   "execution_count": 81,
   "metadata": {
    "scrolled": true
   },
   "outputs": [
    {
     "name": "stdout",
     "output_type": "stream",
     "text": [
      "Index(['year', 'state', 'report', 'farmtype', 'category', 'category_value',\n",
      "       'category2', 'category2_value', 'variable_id', 'variable_name',\n",
      "       'variable_sequence', 'variable_level', 'variable_group',\n",
      "       'variable_group_id', 'variable_unit', 'variable_description',\n",
      "       'variable_is_invalid', 'estimate', 'median', 'statistic', 'rse',\n",
      "       'unreliable_estimate', 'decimal_display'],\n",
      "      dtype='object')\n"
     ]
    }
   ],
   "source": [
    "Farm_2018 = pd.read_csv('WebToolCSV2018.csv')\n",
    "print(Farm_2018.columns)"
   ]
  },
  {
   "cell_type": "code",
   "execution_count": 83,
   "metadata": {
    "scrolled": false
   },
   "outputs": [
    {
     "name": "stderr",
     "output_type": "stream",
     "text": [
      "IOPub data rate exceeded.\n",
      "The notebook server will temporarily stop sending output\n",
      "to the client in order to avoid crashing it.\n",
      "To change this limit, set the config variable\n",
      "`--NotebookApp.iopub_data_rate_limit`.\n",
      "\n",
      "Current values:\n",
      "NotebookApp.iopub_data_rate_limit=1000000.0 (bytes/sec)\n",
      "NotebookApp.rate_limit_window=3.0 (secs)\n",
      "\n"
     ]
    }
   ],
   "source": []
  },
  {
   "cell_type": "code",
   "execution_count": 219,
   "metadata": {},
   "outputs": [
    {
     "name": "stdout",
     "output_type": "stream",
     "text": [
      "536365\n",
      "85123A\n",
      "WHITE HANGING HEART T-LIGHT HOLDER\n",
      "6\n",
      "12/1/2010 8:26\n",
      "2.55\n",
      "17850.0\n",
      "United Kingdom\n",
      "       InvoiceNo StockCode                          Description  Quantity  \\\n",
      "0         536365    85123A   WHITE HANGING HEART T-LIGHT HOLDER         6   \n",
      "1         536365     71053                  WHITE METAL LANTERN         6   \n",
      "2         536365    84406B       CREAM CUPID HEARTS COAT HANGER         8   \n",
      "3         536365    84029G  KNITTED UNION FLAG HOT WATER BOTTLE         6   \n",
      "4         536365    84029E       RED WOOLLY HOTTIE WHITE HEART.         6   \n",
      "...          ...       ...                                  ...       ...   \n",
      "541904    581587     22613          PACK OF 20 SPACEBOY NAPKINS        12   \n",
      "541905    581587     22899         CHILDREN'S APRON DOLLY GIRL          6   \n",
      "541906    581587     23254        CHILDRENS CUTLERY DOLLY GIRL          4   \n",
      "541907    581587     23255      CHILDRENS CUTLERY CIRCUS PARADE         4   \n",
      "541908    581587     22138        BAKING SET 9 PIECE RETROSPOT          3   \n",
      "\n",
      "            InvoiceDate  UnitPrice  CustomerID         Country  \n",
      "0        12/1/2010 8:26       2.55     17850.0  United Kingdom  \n",
      "1        12/1/2010 8:26       3.39     17850.0  United Kingdom  \n",
      "2        12/1/2010 8:26       2.75     17850.0  United Kingdom  \n",
      "3        12/1/2010 8:26       3.39     17850.0  United Kingdom  \n",
      "4        12/1/2010 8:26       3.39     17850.0  United Kingdom  \n",
      "...                 ...        ...         ...             ...  \n",
      "541904  12/9/2011 12:50       0.85     12680.0          France  \n",
      "541905  12/9/2011 12:50       2.10     12680.0          France  \n",
      "541906  12/9/2011 12:50       4.15     12680.0          France  \n",
      "541907  12/9/2011 12:50       4.15     12680.0          France  \n",
      "541908  12/9/2011 12:50       4.95     12680.0          France  \n",
      "\n",
      "[541909 rows x 8 columns]\n"
     ]
    }
   ],
   "source": [
    "Commerce_data = pd.read_csv('UK_Commerce_Data.csv', encoding = 'latin1')\n",
    "for row in Commerce_data.iloc[0]:\n",
    "    print(row)\n",
    "print(Commerce_data)"
   ]
  },
  {
   "cell_type": "markdown",
   "metadata": {},
   "source": [
    "UK Parliament project approach: \n",
    "1. learn how to delimit the text file using a regex expression which detects names turning each persons data into a cell\n",
    "2. create a function that takes an individuals textual data and turns it into a dataframe\n",
    "3. aggregate the individual entries into a single dataframe"
   ]
  },
  {
   "cell_type": "markdown",
   "metadata": {},
   "source": [
    "### Project: Analyzing Financial interests in parliament\n",
    "\n",
    "The United Kingdom has a listing of each of its members along with thier potential financial interests. However, the data is provided in the form of a series of web pages or in a single 553 page pdf. My goal is to extract the data, organize it and analyze it to learn more about parliament's financial interests. \n",
    "\n",
    "My end goal is to have a list of every financial interest of each parliament member as its own data point. This would allow for each interest to be categorized using the same criteria used by the UK government. Summaries for individual members could be found by querying their names and summarizing each individual listing. \n",
    "\n",
    "In order to get this result, I plan to use regular expressions to break up the pdf text by each member's name. Then \n",
    "with the categories used in the documentation I will create a function that formats each categorized financial interest into a dataframe. \n",
    "\n",
    "I've created the expression \"([A-Z]\\w*),\\s*([A-Z]\\w*)*\\s*([A-Z]\\w*) \\((.*)\\)\" which successfully detects the first two names. I'm now going to try turning the pdf into a text file so that I can successfully divide the document by each member."
   ]
  },
  {
   "cell_type": "code",
   "execution_count": 3,
   "metadata": {},
   "outputs": [
    {
     "name": "stdout",
     "output_type": "stream",
     "text": [
      "649\n",
      "649\n",
      "('Abbott', 'Ms', 'Diane', 'Hackney North and Stoke Newington')\n"
     ]
    }
   ],
   "source": [
    "textfile = open('UK_financial_interests.txt', 'r', encoding = 'utf-8')\n",
    "filetext = textfile.read()\n",
    "textfile.close()\n",
    "matches = re.findall(\"([A-Z]\\w*),\\s*([A-Z]\\w*)*\\s*([A-Z]\\w*) \\((.*)\\)\", filetext)\n",
    "print(len(matches))\n",
    "\n",
    "matches2 = re.findall(\"[A-Z]\\w*,\\s*[A-Z]?\\w*\\s*[A-Z]\\w* \\(.*\\)\", filetext)\n",
    "# Original regular expression was modified to have only one capture group\n",
    "print(len(matches2))\n",
    "\n",
    "print(matches[0])"
   ]
  },
  {
   "cell_type": "code",
   "execution_count": 4,
   "metadata": {},
   "outputs": [],
   "source": [
    "column_names = ['First', 'Last', 'Middle', 'Location']\n",
    "first_names = []\n",
    "middle_names = []\n",
    "last_names = []\n",
    "location_names = []\n",
    "for person in matches:\n",
    "    First = person[2]\n",
    "    Middle = person[1]\n",
    "    Last = person[0]\n",
    "    Location = person[3]\n",
    "    first_names.append(First)\n",
    "    last_names.append(Last)\n",
    "    middle_names.append(Middle)\n",
    "    location_names.append(Location)\n",
    "\n"
   ]
  },
  {
   "cell_type": "code",
   "execution_count": 5,
   "metadata": {},
   "outputs": [
    {
     "name": "stdout",
     "output_type": "stream",
     "text": [
      "        First      Last Middle                           Location\n",
      "0       Diane    Abbott     Ms  Hackney North and Stoke Newington\n",
      "1      Debbie  Abrahams               Oldham East and Saddleworth\n",
      "2       Nigel     Adams                          Selby and Ainsty\n",
      "3         Bim   Afolami                     Hitchin and Harpenden\n",
      "4        Adam   Afriyie                                   Windsor\n",
      "..        ...       ...    ...                                ...\n",
      "644    Jeremy    Wright                    Kenilworth and Southam\n",
      "645  Mohammad     Yasin                                   Bedford\n",
      "646     Jacob     Young                                    Redcar\n",
      "647    Nadhim    Zahawi                         Stratford-on-Avon\n",
      "648    Daniel  Zeichner                                 Cambridge\n",
      "\n",
      "[649 rows x 4 columns]\n"
     ]
    },
    {
     "data": {
      "text/plain": [
       "           532\n",
       "Mr          43\n",
       "Sir         26\n",
       "Dr          18\n",
       "Mrs         10\n",
       "Ms           8\n",
       "Dame         5\n",
       "Mary         1\n",
       "Stuart       1\n",
       "Angus        1\n",
       "Stewart      1\n",
       "Miss         1\n",
       "Anne         1\n",
       "Preet        1\n",
       "Name: Middle, dtype: int64"
      ]
     },
     "execution_count": 5,
     "metadata": {},
     "output_type": "execute_result"
    }
   ],
   "source": [
    "data_frame = pd.DataFrame(columns = column_names)\n",
    "data_frame['First'] = first_names\n",
    "data_frame['Last'] = last_names\n",
    "data_frame['Middle'] = middle_names\n",
    "data_frame['Location'] = location_names\n",
    "print(data_frame)\n",
    "data_frame['Middle'].value_counts()"
   ]
  },
  {
   "cell_type": "code",
   "execution_count": 7,
   "metadata": {},
   "outputs": [],
   "source": [
    "data = re.split(\"[A-Z]\\w*,\\s*[A-Z]?\\w*\\s*[A-Z]\\w* \\(.*\\)\", filetext)\n",
    "data_frame['information'] = data[1:]\n",
    "len(data[1:])\n",
    "data_list = []\n",
    "for (a, b, c) in zip(first_names, last_names, data[1:]):\n",
    "    list = []\n",
    "    list.append(a + ' ' + b)\n",
    "    list.append(c)\n",
    "    data_list.append(list)\n",
    "# print(data_list)"
   ]
  },
  {
   "cell_type": "code",
   "execution_count": 43,
   "metadata": {},
   "outputs": [],
   "source": [
    "#Used one as a delimiter for last finacial entry\n",
    "# for person in data_list:\n",
    "#     person[1] = person[1]+'\\n1.'"
   ]
  },
  {
   "cell_type": "code",
   "execution_count": 71,
   "metadata": {},
   "outputs": [
    {
     "name": "stdout",
     "output_type": "stream",
     "text": [
      "\n",
      "Nil\n",
      "\n",
      "\n",
      "\n",
      "1. Employment and earnings\n",
      "18 February 2020, received £200 from Ipsos MORI, 3 Thomas More Square,\n",
      "London E1W 1YW, for a survey. Hours: 90 mins. Payment donated to my\n",
      "constituency party. (Registered 18 February 2020)\n",
      "2. (a) Support linked to an MP but received by a local party organisation or indirectly\n",
      "via a central party organisation\n",
      "Name of donor: IM Group Ltd\n",
      "Address of donor: The Gate, International Drive, Shirley, Solihull B90 4WA\n",
      "Amount of donation or nature and value if donation in kind: £4,000\n",
      "Donor status: company, registration 03456018\n",
      "(Registered 23 December 2019)\n",
      "Name of donor: Robert Kirkland\n",
      "Address of donor: private\n",
      "Amount of donation or nature and value if donation in kind: £5,000\n",
      "Donor status: individual\n",
      "(Registered 23 December 2019)\n",
      "\n",
      "356\n",
      "\n",
      "\f",
      "6. Land and property portfolio: (i) value over £100,000 and/or (ii) giving rental income\n",
      "of over £10,000 a year\n",
      "Residential property in Nottingham: (i). (Updated 4 June 2015)\n",
      "\n",
      "\n",
      "\n",
      "6. Land and property portfolio: (i) value over £100,000 and/or (ii) giving rental income\n",
      "of over £10,000 a year\n",
      "From December 2017 to November 2018, house in London: (i) and, from April\n",
      "to October 2018, (ii). The income was paid to a family member. (Registered 12\n",
      "June 2020) This is a late entry to which the rectification procedure was applied\n",
      "on 20 July 2020. Paragraph 15 of chapter 4 of the Guide to the Rules applies.\n",
      "From April 2018 to August 2019, occasional income from short lets of my home\n",
      "in Berkshire, and from using the grounds for events: (i) and (ii). The income was\n",
      "paid to a family member. (Registered 12 June 2020) This is a late entry to which\n",
      "the rectification procedure was applied on 20 July 2020. Paragraph 15 of\n",
      "chapter 4 of the Guide to the Rules applies.\n",
      "7. (i) Shareholdings: over 15% of issued share capital\n",
      "Until October 2019, Axonn Media Ltd; news and information services company.\n",
      "(Updated 8 January 2020)\n",
      "Until 31 October 2019, Brafton Media Incorporated; news and information services\n",
      "company. (Updated 08 January 2020)\n",
      "Until 21 April 2020, Senate Media Ltd (formerly Adfero Media Ltd); digital\n",
      "animation, video and infographic company. (Registered 26 March 2013; updated\n",
      "20 February 2017 and 29 June 2020)\n",
      "Until 27 December 2019, Castleford Media Pty Ltd; news and information services\n",
      "company. (Registered 20 February 2017; updated 8 January 2020)\n",
      "8. Miscellaneous\n",
      "Occasional income, now registered under Category 6 above, derived from short lets\n",
      "of my Windsor home and from using the grounds for events. This income was paid\n",
      "to a family member. (Registered 9 January 2020; updated 12 June 2020)\n",
      "\n",
      "Ahmad \n",
      "\n",
      "2. (a) Support linked to an MP but received by a local party organisation or indirectly\n",
      "via a central party organisation\n",
      "Name of donor: Mr Philip Jeans\n",
      "Address of donor: private\n",
      "Amount of donation, or nature and value if donation in kind: £5,000\n",
      "Donor status: individual\n",
      "(Registered 10 January 2020)\n",
      "\n",
      "23\n",
      "\n",
      "\f",
      "8. Miscellaneous\n",
      "I am a patron of Elizabeth’s Legacy of Hope, a registered charity in England and\n",
      "Wales, No 1141287. During the course of overseas visits I may from time to time\n",
      "undertake engagements on behalf of the charity. (Registered 25 January 2013;\n",
      "updated 26 May 2015)\n",
      "I am a member of the board (unpaid) of the Right to Build Task Force, which is\n",
      "part of the National Custom and Self-Build Association, and I serve as the task\n",
      "force ambassador. (Registered 06 March 2018)\n",
      "\n",
      "\n",
      "\n",
      "2. (a) Support linked to an MP but received by a local party organisation or indirectly\n",
      "via a central party organisation\n",
      "Name of donor: Musicians' Union\n",
      "Address of donor: 60-62 Clapham Rd, London SW9 0JJ\n",
      "Amount of donation, or nature and value if donation in kind: £4,000\n",
      "Donor status: trade union\n",
      "(Registered 10 January 2020)\n",
      "Name of donor: RMT\n",
      "Address of donor: 39 Chalton St, London NW1 1JD\n",
      "Amount of donation, or nature and value if donation in kind: £2,000\n",
      "Donor status: trade union\n",
      "(Registered 10 January 2020)\n",
      "Name of donor: GMB\n",
      "Address of donor: 22 Stephenson Way, London NW1 2HD\n",
      "Amount of donation, or nature and value if donation in kind: £14,229.05\n",
      "Donor status: trade union\n",
      "(Registered 10 January 2020)\n",
      "Name of donor: Unite the Union\n",
      "Address of donor: Unite House, Cathedral Rd Cardiff CF11 9SD\n",
      "Amount of donation, or nature and value if donation in kind: £2,500\n",
      "Donor status: trade union\n",
      "(Registered 10 January 2020)\n",
      "Name of donor: CWU Wales and the Marches\n",
      "Address of donor: PP101M, Factory Rd, Newport NP20 5FA\n",
      "Amount of donation, or nature and value if donation in kind: £2,000\n",
      "Donor status: trade union\n",
      "(Registered 10 January 2020)\n",
      "Name of donor: USDAW\n",
      "Address of donor: 188 Wilmslow Rd, Manchester M14 6LJ\n",
      "Amount of donation, or nature and value if donation in kind: £2,000\n",
      "Donor status: trade union\n",
      "(Registered 10 January 2020)\n",
      "2. (b) Any other support not included in Category 2(a)\n",
      "Name of donor: Fire Brigades Union (FBU)\n",
      "Address of donor: Bradley House, 68 Coombe Road, Kingston-upon-Thames KT2\n",
      "7AE\n",
      "Amount of donation or nature and value if donation in kind: the administration and\n",
      "coordination of the FBU Parliamentary Group, of which I am the Co-Chair,\n",
      "provided by Solidarity Consulting Ltd, between 2 April 2019 and 6 November\n",
      "2019, value £9,891.\n",
      "Date received: 2 April 2019 to 6 September 2019\n",
      "500\n",
      "\n",
      "\f",
      "Date accepted: 2 April 2019\n",
      "Donor status: Trade Union\n",
      "(Registered 10 January 2020)\n",
      "4. Visits outside the UK\n",
      "Name of donor: Woodrow Wilson International Centre for Scholars\n",
      "Address of donor: One Woodrow Wilson Plaza, 1300 Pennsylvania Ave. NW\n",
      "Washington, DC 20004-3027, United States\n",
      "Estimate of the probable value (or amount of any donation): Return flight from\n",
      "London to Washington, and end of conference dinner, £726.71; plus\n",
      "accommodation valued at £600.73; £1,327.44 in total\n",
      "Destination of visit: Washington, United States\n",
      "Dates of visit: 4-7 February 2020\n",
      "Purpose of visit: To attend and participate in a Defeating Disinformation\n",
      "conference of international parliamentarians.\n",
      "(Registered 13 February 2020; updated 09 March 2020)\n",
      "\n",
      "\n",
      "\n",
      "1. Employment and earnings\n",
      "Payments from ComRes, Four Millbank, London SW1P 3JA, for completing\n",
      "parliamentary panel surveys:\n",
      "28 January 2019, received £75 for November 2018 survey. Hours: 15 mins.\n",
      "(Registered 09 September 2019)\n",
      "29 April 2019, received £75 for January 2019 survey. Hours: 15 mins.\n",
      "(Registered 09 September 2019)\n",
      "17 May 2019, received £150 for February and March 2019 surveys. Hours: 30\n",
      "mins in total. (Registered 09 September 2019)\n",
      "9 September 2019, received £150 for May and June 2019 survey. Hours: 30\n",
      "mins in total. (Registered 09 September 2019)\n",
      "5 December 2019, received £75 for July 2019 Survey. Hours: 15 mins.\n",
      "(Registered 09 January 2020)\n",
      "2. (b) Any other support not included in Category 2(a)\n",
      "Name of donor: Marc Pennick\n",
      "Address of donor: private\n",
      "Amount of donation, or nature and value if donation in kind: £2,000\n",
      "Date received: 5 September 2019\n",
      "Date accepted: 11 September 2019\n",
      "Donor status: individual\n",
      "(Registered 13 September 2019)\n",
      "Name of donor: Landsker Business Club\n",
      "Address of donor: private\n",
      "Amount of donation, or nature and value if donation in kind: £10,000\n",
      "Date received: 16 September 2019\n",
      "Date accepted: 16 September 2019\n",
      "Donor status: unincorporated association\n",
      "(Registered 10 October 2019)\n",
      "\n",
      "224\n",
      "\n",
      "\f",
      "Name of donor: Michael O’Reilly\n",
      "Address of donor: private\n",
      "Amount of donation, or nature and value if donation in kind: £2,500\n",
      "Date received: 29 October 2019\n",
      "Date accepted: 29 October 2019\n",
      "Donor status: individual\n",
      "(Registered 31 October 2019)\n",
      "Name of donor: Fraser Duffin\n",
      "Address of donor: private\n",
      "Amount of donation or nature and value if donation in kind: £5,000\n",
      "Date received: 11 November 2019\n",
      "Date accepted: 11 November 2019\n",
      "Donor status: individual\n",
      "(Registered 23 December 2019)\n",
      "Name of donor: United & Cecil Club\n",
      "Address of donor: c/o Nathan Steinberg, Kreston Reeves, 24 Chiswell Street,\n",
      "London EC1Y 4YX\n",
      "Amount of donation or nature and value if donation in kind: £2,500\n",
      "Date received: 6 November 2019\n",
      "Date accepted: 6 November 2019\n",
      "Donor status: members' association\n",
      "(Registered 23 December 2019; updated 07 January 2020)\n",
      "Name of donor: United & Cecil Club\n",
      "Address of donor: c/o Nathan Steinberg, Kreston Reeves, 24,Chiswell Street,\n",
      "London EC1Y 4YX\n",
      "Amount of donation or nature and value if donation in kind: £1,000\n",
      "Date received: 27 November 2019\n",
      "Date accepted: 27 November 2019\n",
      "Donor status: members' association\n",
      "(Registered 23 December 2019; updated 07 January 2020)\n",
      "3. Gifts, benefits and hospitality from UK sources\n",
      "Name of donor: England and Wales Cricket Board\n",
      "Address of donor: Lord’s Cricket Ground, St John’s Wood, London NW8 8QZ\n",
      "Amount of donation, or nature and value if donation in kind: One ticket to the\n",
      "Cricket World Cup Semi-final, value £366\n",
      "Date received: 11 July 2019\n",
      "Date accepted: 11 July 2019\n",
      "Donor status: company, registration 03251364\n",
      "(Registered 01 August 2019)\n",
      "Name of donor: England and Wales Cricket Board\n",
      "Address of donor: Lord’s Cricket Ground, St John’s Wood, London NW8 8QZ\n",
      "Amount of donation, or nature and value if donation in kind: Two tickets to the\n",
      "Cricket World Cup Final, total value £948\n",
      "Date received: 14 July 2019\n",
      "Date accepted: 14 July 2019\n",
      "Donor status: company, registration 03251364\n",
      "(Registered 01 August 2019)\n",
      "\n",
      "225\n",
      "\n",
      "\f",
      "9. Family members employed and paid from parliamentary expenses\n",
      "I employ my wife, Abigail Kate Hart, as Office Manager. (Updated 06 April 2017)\n",
      "\n",
      "\n",
      "\n",
      "6. Land and property portfolio: (i) value over £100,000 and/or (ii) giving rental income\n",
      "of over £10,000 a year\n",
      "House in East Sussex: (i). (Registered 03 June 2015)\n",
      "\n",
      "\n",
      "\n",
      "9. Family members employed and paid from parliamentary expenses\n",
      "I employ my wife, Wendy Johnson, as Parliamentary Assistant. (Updated 07 July\n",
      "2017)\n",
      "\n",
      "\n",
      "\n",
      "1. Employment and earnings\n",
      "Partner, Gatley Farms; farming partnership.\n",
      "For the year ended 5 April 2020, £1,281 drawings, agreed on 12 July 2019.\n",
      "Hours: approximately 50 hours per annum. (Registered 27 September 2019)\n",
      "From 1 July 2020, Non-Executive Director of Reaction Engines Ltd (engineering\n",
      "technology developer), Building F5, Culham Science Centre, Abingdon OX14\n",
      "3DB. Until further notice, I receive £1,333 a month. Hours: 4 hrs per month.\n",
      "(Registered 21 July 2020)\n",
      "2. (a) Support linked to an MP but received by a local party organisation or indirectly\n",
      "via a central party organisation\n",
      "Name of donor: Pamela Twitchell\n",
      "Address of donor: private\n",
      "Amount of donation or nature and value if donation in kind: £5,000\n",
      "Donor status: individual\n",
      "(Registered 20 December 2019)\n",
      "Name of donor: Camilla R Soames\n",
      "Address of donor: private\n",
      "Amount of donation or nature and value if donation in kind: £4,995\n",
      "Donor status: individual\n",
      "(Registered 20 December 2019)\n",
      "Name of donor: Roger Gabb\n",
      "Address of donor: private\n",
      "Amount of donation or nature and value if donation in kind: £4,500\n",
      "Donor status: individual\n",
      "(Registered 20 December 2019)\n",
      "Name of donor: Cavercharm Limited\n",
      "Address of donor: Bickenhall Mansions, Bickenhall Street, London W1U 6BP\n",
      "Amount of donation or nature and value if donation in kind: £5,000\n",
      "Donor status: company, registration 02917073\n",
      "(Registered 20 December 2019)\n",
      "Name of donor: Ivor Windsor-Clive, Earl of Plymouth\n",
      "Address of donor: private\n",
      "Amount of donation or nature and value if donation in kind: £5,000\n",
      "Donor status: individual\n",
      "(Registered 06 January 2020)\n",
      "6. Land and property portfolio: (i) value over £100,000 and/or (ii) giving rental income\n",
      "of over £10,000 a year\n",
      "Land and property in Herefordshire, some held in trust for life: (i) and (ii).\n",
      "Interest in land in Surrey: (i) and (ii).\n",
      "Residential flat in London SW3: (i) and (ii).\n",
      "From 24 March 2016, a residential flat owned jointly with my wife: (i) and (ii).\n",
      "(Registered 03 May 2016)\n",
      "7. (i) Shareholdings: over 15% of issued share capital\n",
      "Nomina 538 LLP, a member of Lloyd’s. (Registered 22 January 2010)\n",
      "152\n",
      "\n",
      "\f",
      "7. (ii) Other shareholdings, valued at more than £70,000\n",
      "From 22 June 2017, Enigma Video Games Ltd, through Hindsight Media EIS\n",
      "Fund. (Registered 04 July 2017)\n",
      "8. Miscellaneous\n",
      "From 12 December 2018, Deputy Chairman (unremunerated) of the Defence\n",
      "Growth Partnership. (Registered 20 December 2018; updated 02 January 2020)\n",
      "From 12 December 2018, Visiting Professor (unremunerated) at the Institute for\n",
      "Global Health Innovation. (Registered 20 December 2018)\n",
      "\n",
      "\n",
      "\n",
      "1. Employment and earnings\n",
      "Unless otherwise stated, all earnings paid to Energy Destinations Ltd, and will be\n",
      "used to benefit my disabled son.\n",
      "Payments received as Chairman of Mongoose Energy, a firm majority-owned by\n",
      "community benefit societies that develops, acquires, builds, finances and manages\n",
      "community-owned renewable energy installations:\n",
      "From 1 June 2017 to 31 December 2017, I received £5,000 every three\n",
      "months for an expected quarterly commitment of 24 hours. (Registered 06\n",
      "July 2017; updated 27 February 2020)\n",
      "28 March 2019, received £7,085 for the period 1 January 2018 to 31 March\n",
      "2019. Hours: 120 hrs. (Registered 02 March 2020)\n",
      "Consultant on political issues and policy analysis to Herbert Smith Freehills,\n",
      "Exchange House, Primrose St, London EC2A 2EG. From 1 June 2017 I receive\n",
      "£5,000 a month for an expected monthly commitment of six hours. (Registered 06\n",
      "July 2017)\n",
      "Member of the Advisory Board of Next Energy Capital, a specialist investment and\n",
      "asset manager in the international solar sector. I receive £4,500 every three months\n",
      "for a quarterly commitment of 12 hours. (Registered 06 July 2017)\n",
      "2. (a) Support linked to an MP but received by a local party organisation or indirectly\n",
      "via a central party organisation\n",
      "Name of donor: Chris Leach\n",
      "Address of donor: private\n",
      "Amount of donation: £10,000\n",
      "Donor status: individual\n",
      "(Registered 04 October 2019)\n",
      "Name of donor: Tina Leach\n",
      "Address of donor: private\n",
      "Amount of donation: £5,000\n",
      "Donor status: individual\n",
      "(Registered 04 October 2019)\n",
      "Name of donor: Joseph Zammit-Lucia\n",
      "Address of donor: private\n",
      "Amount of donation, or nature and value if donation in kind: £5,000\n",
      "Donor status: individual\n",
      "(Registered 10 January 2020)\n",
      "Name of donor: Robert A Laurence\n",
      "Address of donor: private\n",
      "Amount of donation, or nature and value if donation in kind: £2,500\n",
      "Donor status: individual\n",
      "(Registered 10 January 2020)\n",
      "\n",
      "113\n",
      "\n",
      "\f",
      "Name of donor: 12 Property FE Ltd\n",
      "Address of donor: c/o Barnes Roffe LLP3, Brook Business Centre, Cowley Mill\n",
      "Road Uxbridge UB8 2FX\n",
      "Amount of donation, or nature and value if donation in kind: £10,000\n",
      "Donor status: company, registration 09351326\n",
      "(Registered 10 January 2020)\n",
      "Name of donor: Alexandra M Christiansen\n",
      "Address of donor: private\n",
      "Amount of donation, or nature and value if donation in kind: £5,000\n",
      "Donor status: individual\n",
      "(Registered 10 January 2020)\n",
      "Name of donor: Infinergy Ltd\n",
      "Address of donor: 16 West Borough,Wimborne BH21 1NG\n",
      "Amount of donation, or nature and value if donation in kind: £2,000\n",
      "Donor status: company, registration 04732465\n",
      "(Registered 10 January 2020)\n",
      "Name of donor: Ian Montrose\n",
      "Address of donor: private\n",
      "Amount of donation, or nature and value if donation in kind: £5,000\n",
      "Donor status: individual\n",
      "(Registered 10 January 2020)\n",
      "Name of donor: Valerie M Williams\n",
      "Address of donor: private\n",
      "Amount of donation, or nature and value if donation in kind: £5,000\n",
      "Donor status: individual\n",
      "(Registered 10 January 2020)\n",
      "Name of donor: Next Energy Capital\n",
      "Address of donor: 5th Floor Office, North Side 7-10 Chandos Street, Cavendish\n",
      "Square, London W1G 9DQ\n",
      "Amount of donation, or nature and value if donation in kind: £20,000\n",
      "Donor status: company, registration 05975223\n",
      "(Registered 10 January 2020)\n",
      "Name of donor: Ashtonleigh Homes Limited\n",
      "Address of donor: 14 Highbury Road, London SW19 7PR\n",
      "Amount of donation, or nature and value if donation in kind: £5,000\n",
      "Donor status: company, registration 07257566\n",
      "(Registered 10 January 2020)\n",
      "Name of donor: DCD London and Mutual\n",
      "Address of donor: 90 Long Acre, London WC2E 9RA\n",
      "Amount of donation or nature and value if donation in kind: £1,000\n",
      "Donor status: company, registration 02896868\n",
      "(Registered 31 January 2020)\n",
      "2. (b) Any other support not included in Category 2(a)\n",
      "Name of donor: Chris Leach\n",
      "Address of donor: private\n",
      "Amount of donation, or nature and value if donation in kind: £1,500 towards my\n",
      "campaign for leadership of the Liberal Democrat party\n",
      "\n",
      "114\n",
      "\n",
      "\f",
      "Date received: 19 June 2019\n",
      "Date accepted: 11 July 2019\n",
      "Donor status: individual\n",
      "(Registered 09 August 2019)\n",
      "Name of donor: DCD London and Mutual\n",
      "Address of donor: 90 Long Acre, London WC2E 9RA\n",
      "Amount of donation or nature and value if donation in kind: £1,500 towards my\n",
      "campaign for leadership of the Liberal Democrat party\n",
      "Date received: 17 May 2019\n",
      "Date accepted: 20 May 2019\n",
      "Donor status: company, registration 02896868\n",
      "(Registered 31 January 2020)\n",
      "Name of donor: Richard Madgin\n",
      "Address of donor: private\n",
      "Amount of donation or nature and value if donation in kind: £10,000 towards my\n",
      "campaign for leadership of the Liberal Democrat party\n",
      "Date received: 28 May 2020\n",
      "Date accepted: 22 June 2020\n",
      "Donor status: individual\n",
      "(Registered 29 June 2020)\n",
      "Name of donor: Onecross Partners Ltd\n",
      "Address of donor: The Nova Centre, 1 Purser Road, Northampton NN1 4PG\n",
      "Amount of donation or nature and value if donation in kind: £14,000 towards my\n",
      "campaign for leadership of the Liberal Democrat party\n",
      "Date received: 1 June 2020\n",
      "Date accepted: 22 June 2020\n",
      "Donor status: company, registration 12295397\n",
      "(Registered 29 June 2020)\n",
      "Name of donor: Guy De Selliers\n",
      "Address of donor: private\n",
      "Amount of donation or nature and value if donation in kind: £4,000 towards my\n",
      "campaign for leadership of the Liberal Democrat party\n",
      "Date received: 28 May 2020\n",
      "Date accepted: 27 June 2020\n",
      "Donor status: individual\n",
      "(Registered 06 July 2020)\n",
      "Name of donor: Justinian Ash\n",
      "Address of donor: private\n",
      "Amount of donation or nature and value if donation in kind: £6,000 towards my\n",
      "campaign for leadership of the Liberal Democrat party\n",
      "Date received: 16 June 2020\n",
      "Date accepted: 29 June 2020\n",
      "Donor status: individual\n",
      "(Registered 06 July 2020)\n",
      "Name of donor: Michael Bonte-Friedheim\n",
      "Address of donor: private\n",
      "Amount of donation or nature and value if donation in kind: £4,000 towards my\n",
      "campaign for leadership of the Liberal Democrat party\n",
      "\n",
      "115\n",
      "\n",
      "\f",
      "Date received: 19 June 2020\n",
      "Date accepted: 4 July 2020\n",
      "Donor status: individual\n",
      "(Registered 06 July 2020)\n",
      "Name of donor: Dinesh Dhamija\n",
      "Address of donor: private\n",
      "Amount of donation or nature and value if donation in kind: £2,500 towards my\n",
      "campaign for leadership of the Liberal Democrat party\n",
      "Date received: 20 June 2020\n",
      "Date accepted: 4 July 2020\n",
      "Donor status: individual\n",
      "(Registered 06 July 2020)\n",
      "Name of donor: Ian Montrose\n",
      "Address of donor: private\n",
      "Amount of donation or nature and value if donation in kind: £10,000 towards my\n",
      "campaign for leadership of the Liberal Democrat party\n",
      "Date received: 23 June 2020\n",
      "Date accepted: 4 July 2020\n",
      "Donor status: individual\n",
      "(Registered 06 July 2020)\n",
      "Name of donor: Sir Michael Rake\n",
      "Address of donor: private\n",
      "Amount of donation or nature and value if donation in kind: £5,000 towards my\n",
      "campaign for leadership of the Liberal Democrat party\n",
      "Date received: 24 June 2020\n",
      "Date accepted: 4 July 2020\n",
      "Donor status: individual\n",
      "(Registered 06 July 2020)\n",
      "Name of donor: Michael Frohlich\n",
      "Address of donor: private\n",
      "Amount of donation or nature and value if donation in kind: £1,000 towards my\n",
      "campaign for leadership of the Liberal Democrat party\n",
      "Date received: 4 June 2020\n",
      "Date accepted: 28 June 2020\n",
      "Donor status: individual\n",
      "(Registered 23 July 2020)\n",
      "Name of donor: Ashton Care Homes Ltd\n",
      "Address of donor: 14 Highbury Road, London SW19 7PR\n",
      "Amount of donation or nature and value if donation in kind: £2,000 towards my\n",
      "campaign for leadership of the Liberal Democrat party\n",
      "Date received: 29 June 2020\n",
      "Date accepted: 19 July 2020\n",
      "Donor status: company, registration 9140646\n",
      "(Registered 23 July 2020)\n",
      "Name of donor: Michael Frohlich\n",
      "Address of donor: private\n",
      "Amount of donation or nature and value if donation in kind: £2,000 towards my\n",
      "campaign for leadership of the Liberal Democrat party\n",
      "\n",
      "116\n",
      "\n",
      "\f",
      "Date received: 1 July 2020\n",
      "Date accepted: 4 July 2020\n",
      "Donor status: individual\n",
      "(Registered 23 July 2020)\n",
      "Name of donor: John Hemming\n",
      "Address of donor: private\n",
      "Amount of donation or nature and value if donation in kind: £5,000 towards my\n",
      "campaign for leadership of the Liberal Democrat party\n",
      "Date received: 26 June 2020\n",
      "Date accepted: 22 July 2020\n",
      "Donor status: individual\n",
      "(Registered 31 July 2020)\n",
      "Name of donor: George G Brown\n",
      "Address of donor: private\n",
      "Amount of donation or nature and value if donation in kind: £13,800 towards my\n",
      "campaign for leadership of the Liberal Democrat party\n",
      "Date received: 29 June 2020\n",
      "Date accepted: 22 July 2020\n",
      "Donor status: individual\n",
      "(Registered 31 July 2020)\n",
      "Name of donor: Michael Young\n",
      "Address of donor: private\n",
      "Amount of donation or nature and value if donation in kind: £2,000 towards my\n",
      "campaign for leadership of the Liberal Democrat party\n",
      "Date received: 29 June 2020\n",
      "Date accepted: 22 July 2020\n",
      "Donor status: individual\n",
      "(Registered 31 July 2020)\n",
      "Name of donor: Richard Duncalf\n",
      "Address of donor: private\n",
      "Amount of donation or nature and value if donation in kind: £7,500 towards my\n",
      "campaign for leadership of the Liberal Democrat party\n",
      "Date received: 30 June 2020\n",
      "Date accepted: 22 July 2020\n",
      "Donor status: individual\n",
      "(Registered 31 July 2020)\n",
      "Name of donor: Laurence Robert\n",
      "Address of donor: private\n",
      "Amount of donation or nature and value if donation in kind: £10,000 towards my\n",
      "campaign for leadership of the Liberal Democrat party\n",
      "Date received: 30 June 2020\n",
      "Date accepted: 22 July 2020\n",
      "Donor status: individual\n",
      "(Registered 31 July 2020)\n",
      "Name of donor: Richard Carter\n",
      "Address of donor: private\n",
      "Amount of donation or nature and value if donation in kind: £2,000 towards my\n",
      "campaign for leadership of the Liberal Democrat party\n",
      "\n",
      "117\n",
      "\n",
      "\f",
      "Date received: 25 June 2020\n",
      "Date accepted: 23 July 2020\n",
      "Donor status: individual\n",
      "(Registered 31 July 2020)\n",
      "Name of donor: Simon Curtis\n",
      "Address of donor: private\n",
      "Amount of donation or nature and value if donation in kind: £5,000 towards my\n",
      "campaign for leadership of the Liberal Democrat party\n",
      "Date received: 25 June 2020\n",
      "Date accepted: 23 July 2020\n",
      "Donor status: individual\n",
      "(Registered 31 July 2020)\n",
      "Name of donor: David Stevens\n",
      "Address of donor: private\n",
      "Amount of donation or nature and value if donation in kind: £13,800 towards my\n",
      "campaign for leadership of the Liberal Democrat party\n",
      "Date received: 4 July 2020\n",
      "Date accepted: 1 August 2020\n",
      "Donor status: individual\n",
      "(Registered 10 August 2020)\n",
      "Name of donor: Elizabeth Desmond\n",
      "Address of donor: private\n",
      "Amount of donation or nature and value if donation in kind: £5,000 towards my\n",
      "campaign for leadership of the Liberal Democrat party\n",
      "Date received: 5 July 2020\n",
      "Date accepted: 1 August 2020\n",
      "Donor status: individual\n",
      "(Registered 10 August 2020)\n",
      "Name of donor: Michael Frohlich\n",
      "Address of donor: private\n",
      "Amount of donation or nature and value if donation in kind: £1,000 towards my\n",
      "campaign for leadership of the Liberal Democrat party\n",
      "Date received: 9 July 2020\n",
      "Date accepted: 1 August 2020\n",
      "Donor status: individual\n",
      "(Registered 10 August 2020)\n",
      "Name of donor: DCD London & Mutual\n",
      "Address of donor: 90 Long Acre, London WC2E 9RA\n",
      "Amount of donation or nature and value if donation in kind: £5,000 towards my\n",
      "campaign for leadership of the Liberal Democrat party\n",
      "Date received: 10 July 2020\n",
      "Date accepted: 1 August 2020\n",
      "Donor status: company, registration 02896868\n",
      "(Registered 10 August 2020)\n",
      "Name of donor: Michael Frohlich\n",
      "Address of donor: private\n",
      "Amount of donation or nature and value if donation in kind: £2,000 towards my\n",
      "campaign for leadership of the Liberal Democrat party\n",
      "\n",
      "118\n",
      "\n",
      "\f",
      "Date received: 29 July 2020\n",
      "Date accepted: 1 August 2020\n",
      "Donor status: individual\n",
      "(Registered 10 August 2020)\n",
      "8. Miscellaneous\n",
      "Board Member (unpaid) of Fit for the Future, a network of mainly charities helping\n",
      "organisations to become climate-friendly and resilient. Until October 2019, I was\n",
      "the Chairman. (Registered 06 July 2017; updated 31 January 2020)\n",
      "Trustee of Tourism for all, a charity. (Registered 06 July 2017)\n",
      "From 14 September 2017, Board member of POWERful Women (PfW), a\n",
      "professional initiative to advance gender diversity within the energy sector.\n",
      "(Registered 01 November 2018)\n",
      "\n",
      "\n",
      "\n",
      "4. Visits outside the UK\n",
      "Name of donor: Government of Pakistan\n",
      "Address of donor: High Commission of Pakistan, 35-36 Lowndes Square, London\n",
      "SW1X 9JN\n",
      "Estimate of the probable value (or amount of any donation): Travel and\n",
      "accommodation for me and two members of staff, total value £15,590\n",
      "Destination of visit: Islamabad and Azad Jammu and Kashmir (AJK)\n",
      "Dates of visit: 18-22 February 2020\n",
      "Purpose of visit: APPG Kashmir fact finding visit to meet with the leadership,\n",
      "administration, civil society, refugees, UNMOGIP and the British High\n",
      "Commission in Islamabad.\n",
      "(Registered 20 March 2020)\n",
      "\n",
      "\n",
      "\n",
      "2. (b) Any other support not included in Category 2(a)\n",
      "Name of donor: Ian Pattison\n",
      "Address of donor: private\n",
      "Amount of donation or nature and value if donation in kind: £2,500\n",
      "Date received: 19 November 2019\n",
      "Date accepted: 19 November 2019\n",
      "Donor status: individual\n",
      "(Registered 10 January 2020)\n",
      "Name of donor: Charles Forbes Adam\n",
      "Address of donor: private\n",
      "Amount of donation or nature and value if donation in kind: £3,000\n",
      "Date received: 28 November 2019\n",
      "Date accepted: 28 November 2019\n",
      "Donor status: individual\n",
      "(Registered 10 January 2020)\n",
      "3. Gifts, benefits and hospitality from UK sources\n",
      "Name of donor: England and Wales Cricket Board Ltd\n",
      "Address of donor: Lord’s Cricket Ground, St John’s Wood, London NW8 8QN\n",
      "Amount of donation, or nature and value if donation in kind: One ticket with\n",
      "hospitality for the ICC World Cup, value £474\n",
      "Date received: 14 July 2019\n",
      "Date accepted: 14 July 2019\n",
      "Donor status: company, registration 03251364\n",
      "(Registered 22 July 2019; updated 25 September 2019)\n",
      "4. Visits outside the UK\n",
      "Name of donor: Drax Power Ltd\n",
      "Address of donor: Drax Power Station, Drax, Selby YO8 8PH\n",
      "Estimate of the probable value (or amount of any donation): Return flight\n",
      "£3,631.92; accommodation £736; total value £4,367.92\n",
      "Destination of visit: Florida, USA\n",
      "Dates of visit: 6-8 October 2019\n",
      "\n",
      "2\n",
      "\n",
      "\f",
      "Purpose of visit: To attend and deliver keynote speech at the United States\n",
      "Industrial Pellet Association Conference.\n",
      "(Registered 28 October 2019)\n",
      "6. Land and property portfolio: (i) value over £100,000 and/or (ii) giving rental income\n",
      "of over £10,000 a year\n",
      "One mixed use commercial and residential property in Selby, North Yorkshire, coowned with my wife: (i) and (ii).\n",
      "Two residential properties in York co-owned with my wife, the second of which\n",
      "was acquired in September 2017: (i) and (ii). (Registered 13 May 2015; updated 10\n",
      "October 2017)\n",
      "From 18 March 2016, one residential property in Leeds co-owned with my wife: (i)\n",
      "and from 10 May 2016 (ii). (Registered 18 March 2016; updated 10 May 2016)\n",
      "9. Family members employed and paid from parliamentary expenses\n",
      "I employ my spouse, Claire Adams, as part-time Office Manager.\n",
      "\n",
      "\n"
     ]
    }
   ],
   "source": [
    "# extracted 10 random cases to test regex expressions\n",
    "print(data_frame['information'][233])\n",
    "print(data_frame['information'][432])\n",
    "print(data_frame['information'][4])\n",
    "print(data_frame['information'][25])\n",
    "print(data_frame['information'][567])\n",
    "print(data_frame['information'][274])\n",
    "print(data_frame['information'][137])\n",
    "print(data_frame['information'][327])\n",
    "print(data_frame['information'][178])\n",
    "print(data_frame['information'][142])\n",
    "print(data_frame['information'][1])\n",
    "print(data_frame['information'][2])\n"
   ]
  },
  {
   "cell_type": "code",
   "execution_count": null,
   "metadata": {},
   "outputs": [],
   "source": [
    "category_2a = re.findall(r'2\\. \\(a\\)?.*\\n.*\\n.*\\n.*\\n.*(\\d,\\d+)', 'string')\n",
    "category_2b = re.findall(r'2\\. \\(b\\)?.*((?:\\n.*?)*?(\\d\\. ))+?', 'string')"
   ]
  },
  {
   "cell_type": "code",
   "execution_count": 94,
   "metadata": {},
   "outputs": [
    {
     "name": "stdout",
     "output_type": "stream",
     "text": [
      "0\n"
     ]
    }
   ],
   "source": [
    "all_cat_2a = data_frame['information'].str.extract(r'(2\\. \\(a\\)?.*\\n.*\\n.*\\n.*\\n.*)')\n"
   ]
  },
  {
   "cell_type": "markdown",
   "metadata": {},
   "source": [
    "For tomorrow:\n",
    "get text as object\n",
    "filter text based on category\n",
    "create list based on source"
   ]
  },
  {
   "cell_type": "code",
   "execution_count": 105,
   "metadata": {
    "scrolled": true
   },
   "outputs": [
    {
     "name": "stdout",
     "output_type": "stream",
     "text": [
      "\n",
      "Nil\n",
      "\n",
      "\n"
     ]
    },
    {
     "data": {
      "text/plain": [
       "'None'"
      ]
     },
     "execution_count": 105,
     "metadata": {},
     "output_type": "execute_result"
    }
   ],
   "source": [
    "#Detects category 2a\n",
    "(r'2\\. \\(a\\)?.*\\n.*\\n.*\\n.*(.*\\n)*?[0-9].')\n",
    "#detects each entry in 2a\n",
    "(r'(Name of donor: .*(\\n.*){3}(?=Donor))')\n",
    "#extracts recipient from each entry\n",
    "(?<=Name of donor:)(.*)\n",
    "#extracts value form each entry\n",
    "(?<=in kind: )(.*)"
   ]
  },
  {
   "cell_type": "code",
   "execution_count": null,
   "metadata": {},
   "outputs": [],
   "source": [
    "#Detects category 2b\n",
    "(r'2\\. \\(b\\)?.*((?:\\n.*?)*?(\\d\\. ))+?', 'string')\n",
    "#detects each entry in 2b\n",
    "(r'Name of donor: (.*)(?:\\n.*?)*?in kind: (£\\d*?,\\d*)+?')\n",
    "#extracts recipient from each entry\n",
    "(?<=Name of donor:)(.*)\n",
    "#extracts value form each entry\n",
    "(?<=in kind: )(£\\d*?,\\d*)\n",
    "Name of donor: (.*)(?:\\n.*?)*?in kind: (£\\d*?,\\d*)+?"
   ]
  },
  {
   "cell_type": "code",
   "execution_count": 33,
   "metadata": {},
   "outputs": [
    {
     "name": "stdout",
     "output_type": "stream",
     "text": [
      "None\n"
     ]
    },
    {
     "data": {
      "text/plain": [
       "\"\\nsample_frame = pd.DataFrame()\\nentries_cat2a = re.findall(r'(Name of donor: .*(\\n.*){3}(?=Donor))', test_cat2a)\\n# print(test_cat2a)\\n# print(entries_cat2a)\\nlen(entries_cat2a)\\nfor entry in entries_cat2a:\\n    print(entry[0])\\n    recipient = re.search(r'(?<=Name of donor:)(.*)',entry[0]).group(1)\\n    value = re.search(r'(?<=in kind: )(.*)',entry[0]).group(1)\\n    list = ['2a',recipient,value]\\n    print(list)\\n# print(entries_cat2a)\""
      ]
     },
     "execution_count": 33,
     "metadata": {},
     "output_type": "execute_result"
    }
   ],
   "source": [
    "test_frame = data_frame['information'][274]\n",
    "test_cat2a = re.search(r'(2\\. \\(a\\)?.*\\n.*\\n.*\\n.*(.*\\n)*?[0-9].)', test_frame)\n",
    "print(test_cat2a)\n",
    "\n",
    "'''\n",
    "sample_frame = pd.DataFrame()\n",
    "entries_cat2a = re.findall(r'(Name of donor: .*(\\n.*){3}(?=Donor))', test_cat2a)\n",
    "# print(test_cat2a)\n",
    "# print(entries_cat2a)\n",
    "len(entries_cat2a)\n",
    "for entry in entries_cat2a:\n",
    "    print(entry[0])\n",
    "    recipient = re.search(r'(?<=Name of donor:)(.*)',entry[0]).group(1)\n",
    "    value = re.search(r'(?<=in kind: )(.*)',entry[0]).group(1)\n",
    "    list = ['2a',recipient,value]\n",
    "    print(list)\n",
    "# print(entries_cat2a)'''\n",
    "    \n"
   ]
  },
  {
   "cell_type": "code",
   "execution_count": 31,
   "metadata": {},
   "outputs": [
    {
     "name": "stdout",
     "output_type": "stream",
     "text": [
      "Name of donor: IM Group Ltd\n",
      "Address of donor: The Gate, International Drive, Shirley, Solihull B90 4WA\n",
      "Amount of donation or nature and value if donation in kind: £4,000\n",
      "\n",
      "['2a', ' IM Group Ltd', '£4,000']\n",
      "Name of donor: Robert Kirkland\n",
      "Address of donor: private\n",
      "Amount of donation or nature and value if donation in kind: £5,000\n",
      "\n",
      "['2a', ' Robert Kirkland', '£5,000']\n"
     ]
    }
   ],
   "source": [
    "test_frame = data_frame['information'][432]\n",
    "test_cat2a = re.search(r'(2\\. \\(a\\)?.*\\n.*\\n.*\\n.*(.*\\n)*?[0-9].)', test_frame).group(1)\n",
    "sample_frame = pd.DataFrame()\n",
    "entries_cat2a = re.findall(r'(Name of donor: .*(\\n.*){3}(?=Donor))', test_cat2a)\n",
    "# print(test_cat2a)\n",
    "# print(entries_cat2a)\n",
    "len(entries_cat2a)\n",
    "for entry in entries_cat2a:\n",
    "    print(entry[0])\n",
    "    recipient = re.search(r'(?<=Name of donor:)(.*)',entry[0]).group(1)\n",
    "    value = re.search(r'(?<=in kind: )(.*)',entry[0]).group(1)\n",
    "    list = ['2a',recipient,value]\n",
    "    print(list)\n",
    "# print(entries_cat2a)\n",
    "    "
   ]
  },
  {
   "cell_type": "code",
   "execution_count": 207,
   "metadata": {},
   "outputs": [
    {
     "name": "stdout",
     "output_type": "stream",
     "text": [
      "First\n",
      "Last\n",
      "Middle\n",
      "Location\n",
      "information\n"
     ]
    }
   ],
   "source": [
    "# print(data_frame)\n",
    "for row in data_frame:\n",
    "    print(row)"
   ]
  },
  {
   "cell_type": "code",
   "execution_count": 60,
   "metadata": {},
   "outputs": [],
   "source": [
    "# print(data_frame)\n",
    "\n",
    "list2a = []\n",
    "for person in data_list:\n",
    "    Name = person[0]\n",
    "    raw_data = person[1]\n",
    "    check_cat2a = re.search(r'(2\\. \\(a\\)?.*\\n.*\\n.*\\n.*(.*\\n)*?[0-9].)', raw_data)\n",
    "    if check_cat2a == None:\n",
    "        continue\n",
    "    cat2a = re.search(r'(2\\. \\(a\\)?.*\\n.*\\n.*\\n.*(.*\\n)*?[0-9].)', raw_data).group(1)\n",
    "    entries_cat2a = re.findall(r'(Name of donor: .*(\\n.*){3}(?=Donor))', cat2a)\n",
    "    for entry in entries_cat2a:\n",
    "        donor = re.search(r'(?<=Name of donor:)(.*)',entry[0]).group(1)\n",
    "        check_value = re.search(r'(?<=in kind: )(.*)',entry[0])\n",
    "        if check_value != None:\n",
    "            value = re.search(r'(?<=in kind: )(.*)',entry[0]).group(1)\n",
    "        else: value = None\n",
    "        list = [Name,'2a',donor,value]\n",
    "        list2a.append(list)\n",
    "        \n",
    "# print(list2a)"
   ]
  },
  {
   "cell_type": "code",
   "execution_count": null,
   "metadata": {},
   "outputs": [],
   "source": [
    "#Detects category 2b\n",
    "(r'2\\. \\(b\\)?.*((?:\\n.*?)*?(\\d\\. ))+?', 'string')\n",
    "#detects each entry in 2b\n",
    "(r'Name of donor: (.*)(?:\\n.*?)*?in kind: (£\\d*?,\\d*)+?')\n",
    "#extracts recipient from each entry\n",
    "(?<=Name of donor:)(.*)\n",
    "#extracts value form each entry\n",
    "(?<=in kind: )(£\\d*?,\\d*)\n",
    "Name of donor: (.*)(?:\\n.*?)*?in kind: (£\\d*?,\\d*)+?"
   ]
  },
  {
   "cell_type": "code",
   "execution_count": 64,
   "metadata": {},
   "outputs": [],
   "source": [
    "list2b = []\n",
    "for person in data_list:\n",
    "    Name = person[0]\n",
    "    raw_data = person[1]\n",
    "    check_cat2b = re.search(r'2\\. \\(b\\)?.*((?:\\n.*?)*?(\\d\\. ))+?', raw_data)\n",
    "    if check_cat2b == None:\n",
    "        continue\n",
    "    cat2b = re.search(r'2\\. \\(b\\)?.*((?:\\n.*?)*?(\\d\\. ))+?', raw_data).group(1)\n",
    "    entries_cat2b = re.findall(r'Name of donor: (.*)(?:\\n.*?)*?in kind: (£\\d*?,\\d*)+?', cat2b)\n",
    "    for entry in entries_cat2b:\n",
    "        list = [Name,'2b',entry[0],entry[1]]\n",
    "        list2b.append(list)"
   ]
  },
  {
   "cell_type": "code",
   "execution_count": null,
   "metadata": {},
   "outputs": [],
   "source": [
    "#Detects category 3\n",
    "(r'3\\. ?.*((?:\\n.*?)*?(\\d\\. ))+?')\n",
    "#detects each entry in 3\n",
    "(r'Name of donor: (.*)(?:\\n.*?)*? value (£\\d?,?\\d+)')\n",
    "#extracts recipient from each entry\n",
    "(?<=Name of donor:)(.*)\n",
    "#extracts value from each entry\n",
    "(?<=in kind: )(£\\d*?,\\d*)\n",
    "Name of donor: (.*)(?:\\n.*?)*?in kind: (£\\d*?,\\d*)+?\n",
    "# list3"
   ]
  },
  {
   "cell_type": "code",
   "execution_count": 65,
   "metadata": {},
   "outputs": [],
   "source": [
    "list3 = []\n",
    "for person in data_list:\n",
    "    Name = person[0]\n",
    "    raw_data = person[1]\n",
    "    check_cat3 = re.search(r'3\\. ?.*((?:\\n.*?)*?(\\d\\. ))+?', raw_data)\n",
    "    if check_cat3 == None:\n",
    "        continue\n",
    "    cat3 = re.search(r'3\\. ?.*((?:\\n.*?)*?(\\d\\. ))+?', raw_data).group(1)\n",
    "    entries_cat3 = re.findall(r'(Name of donor: (.*)(?:\\n.*?)*?(£\\d?,?\\d+)(\\nDate))', cat3)\n",
    "    for entry in entries_cat3:\n",
    "        donor = re.search(r'(?<=Name of donor:)(.*)',entry[0]).group(1)\n",
    "        value = None\n",
    "        check_value1 = re.search(r'(£\\d?,?\\d+)(?=\\nDate)',entry[0])\n",
    "        if check_value1 != None:\n",
    "            value = re.search(r'(£\\d?,?\\d+)(?=\\nDate)',entry[0]).group(1)\n",
    "        check_value2 = re.search(r'(total value (£\\d*,?\\d+))',entry[0])\n",
    "        if check_value2 != None:\n",
    "            value = re.search(r'(total value (£\\d*,?\\d+))',entry[0]).group(2)\n",
    "        check_value3 = re.search(r'; (£\\d*,?\\d+.*)(?= in total)',entry[0])\n",
    "        if check_value3 != None:\n",
    "            value = re.search(r'; (£\\d*,?\\d+.*)(?= in total)',entry[0]).group(1)\n",
    "        list = [Name,'3',donor,value]\n",
    "        list3.append(list)"
   ]
  },
  {
   "cell_type": "code",
   "execution_count": null,
   "metadata": {},
   "outputs": [],
   "source": [
    "#Detects category 4\n",
    "(r'4\\. Visits?.*((?:\\n.*?)*?(\\d\\. ))+?')\n",
    "#detects entry type\n",
    "(r'Name of donor: (.*)(?:\\n.*?)*?Destination')\n",
    "#extracts recipient from each entry\n",
    "(?<=Name of donor:)(.*)\n",
    "#extracts value form each entry\n",
    "(?<=in kind: )(£\\d*?,\\d*)\n",
    "Name of donor: (.*)(?:\\n.*?)*?in kind: (£\\d*?,\\d*)+?"
   ]
  },
  {
   "cell_type": "code",
   "execution_count": 66,
   "metadata": {},
   "outputs": [],
   "source": [
    "list4 = []\n",
    "for person in data_list:\n",
    "    Name = person[0]\n",
    "    raw_data = person[1]\n",
    "    check_cat4 = re.search(r'4\\. Visits?.*((?:\\n.*?)*?(\\d\\. ))+?', raw_data)\n",
    "    if check_cat4 == None:\n",
    "        continue\n",
    "    cat4 = re.search(r'4\\. Visits?.*((?:\\n.*?)*?(\\d\\. ))+?', raw_data).group(1)\n",
    "    entries_cat4 = re.findall(r'(Name of donor: (.*)(?:\\n.*?)*?Destination)', cat4)\n",
    "    for entry in entries_cat4:\n",
    "        donor = re.search(r'(?<=Name of donor:)(.*)',entry[0]).group(1)\n",
    "        value = re.findall(r'£.*?(?=[ \\n])',entry[0])[-1]\n",
    "        check_value1 = re.search(r'(£\\d?,?\\d+)(?=\\nDate)',entry[0])\n",
    "        if check_value1 != None:\n",
    "            value = re.search(r'(£\\d?,?\\d+)(?=\\nDate)',entry[0]).group(1)\n",
    "        check_value2 = re.search(r'(total value (£\\d*,?\\d+))',entry[0])\n",
    "        if check_value2 != None:\n",
    "            value = re.search(r'(total value (£\\d*,?\\d+))',entry[0]).group(2)\n",
    "        check_value3 = re.search(r'; (£\\d*,?\\d+.*)(?= in total)',entry[0])\n",
    "        if check_value3 != None:\n",
    "            value = re.search(r'; (£\\d*,?\\d+.*)(?= in total)',entry[0]).group(1)\n",
    "        list = [Name,'4',donor,value]\n",
    "        list4.append(list)"
   ]
  },
  {
   "cell_type": "code",
   "execution_count": 15,
   "metadata": {},
   "outputs": [],
   "source": [
    "# print(list4)\n"
   ]
  },
  {
   "cell_type": "code",
   "execution_count": null,
   "metadata": {},
   "outputs": [],
   "source": [
    "#Detects category 5\n",
    "(r'5\\. Gifts?.*((?:\\n.*?)*?(\\d\\. ))+?')\n",
    "# different cat 5 type\n",
    "r'5\\. Gifts?.*((?:\\n.*?)*?\\(Registered.*\\)(?!\\nName of donor))''\n",
    "#detects entry\n",
    "(r'Name of donor: (.*)(?:\\n.*?)*?£(.*)\\n')\n",
    "#extracts recipient from each entry\n",
    "(?<=Name of donor:)(.*)\n",
    "#extracts value form each entry\n",
    "(?<=in kind: )(£\\d*?,\\d*)\n",
    "Name of donor: (.*)(?:\\n.*?)*?in kind: (£\\d*?,\\d*)+?"
   ]
  },
  {
   "cell_type": "code",
   "execution_count": 67,
   "metadata": {},
   "outputs": [],
   "source": [
    "list5 = []\n",
    "for person in data_list:\n",
    "    Name = person[0]\n",
    "    raw_data = person[1]\n",
    "    check_cat5 = re.search(r'5\\. Gifts?.*((?:\\n.*?)*?(\\d\\. ))+?', raw_data)\n",
    "    if check_cat5 == None:\n",
    "        continue\n",
    "    cat5 = re.search(r'5\\. Gifts?.*((?:\\n.*?)*?(\\d\\. ))+?', raw_data).group(1)\n",
    "    entries_cat5 = re.findall(r'(Name of donor: (.*)(?:\\n.*?)*?£(.*)\\n)', cat5)\n",
    "    for entry in entries_cat5:\n",
    "        donor = re.search(r'(?<=Name of donor:)(.*)',entry[0]).group(1)\n",
    "        value = re.findall(r'£.*?(?=[ \\n])',entry[0])[-1]\n",
    "        check_value1 = re.search(r'(£\\d?,?\\d+)(?=\\nDate)',entry[0])\n",
    "        if check_value1 != None:\n",
    "            value = re.search(r'(£\\d?,?\\d+)(?=\\nDate)',entry[0]).group(1)\n",
    "        check_value2 = re.search(r'(total value (£\\d*,?\\d+))',entry[0])\n",
    "        if check_value2 != None:\n",
    "            value = re.search(r'(total value (£\\d*,?\\d+))',entry[0]).group(2)\n",
    "        check_value3 = re.search(r'; (£\\d*,?\\d+.*)(?= in total)',entry[0])\n",
    "        if check_value3 != None:\n",
    "            value = re.search(r'; (£\\d*,?\\d+.*)(?= in total)',entry[0]).group(1)\n",
    "        list = [Name,'5',donor,value]\n",
    "        list5.append(list)"
   ]
  },
  {
   "cell_type": "code",
   "execution_count": 68,
   "metadata": {},
   "outputs": [
    {
     "ename": "SyntaxError",
     "evalue": "EOL while scanning string literal (<ipython-input-68-7f223ded0638>, line 4)",
     "output_type": "error",
     "traceback": [
      "\u001b[1;36m  File \u001b[1;32m\"<ipython-input-68-7f223ded0638>\"\u001b[1;36m, line \u001b[1;32m4\u001b[0m\n\u001b[1;33m    r'5\\. Gifts?.*((?:\\n.*?)*?\\(Registered.*\\)(?!\\nName of donor))''\u001b[0m\n\u001b[1;37m                                                                    ^\u001b[0m\n\u001b[1;31mSyntaxError\u001b[0m\u001b[1;31m:\u001b[0m EOL while scanning string literal\n"
     ]
    }
   ],
   "source": [
    "#Detects category 6\n",
    "(r'6\\. Land.*((?:\\n.*?)*?(\\d\\. ))+?')\n",
    "# different cat 5 type\n",
    "r'5\\. Gifts?.*((?:\\n.*?)*?\\(Registered.*\\)(?!\\nName of donor))''\n",
    "#detects entry\n",
    "(r'Name of donor: (.*)(?:\\n.*?)*?£(.*)\\n')\n",
    "#extracts recipient from each entry\n",
    "(?<=Name of donor:)(.*)\n",
    "#extracts value form each entry\n",
    "(?<=in kind: )(£\\d*?,\\d*)\n",
    "Name of donor: (.*)(?:\\n.*?)*?in kind: (£\\d*?,\\d*)+?"
   ]
  },
  {
   "cell_type": "code",
   "execution_count": 69,
   "metadata": {
    "scrolled": true
   },
   "outputs": [],
   "source": [
    "list6 = []\n",
    "for person in data_list:\n",
    "    Name = person[0]\n",
    "    donor = None\n",
    "    raw_data = person[1]\n",
    "    check_cat6 = re.search(r'6\\. Land.*((?:\\n.*?)*?(\\d\\. ))+?', raw_data)\n",
    "    if check_cat6 == None:\n",
    "        value = False\n",
    "    else:\n",
    "        value = True\n",
    "    list = [Name,'6',donor,value]\n",
    "    list6.append(list)"
   ]
  },
  {
   "cell_type": "code",
   "execution_count": 54,
   "metadata": {
    "scrolled": false
   },
   "outputs": [
    {
     "data": {
      "text/plain": [
       "649"
      ]
     },
     "execution_count": 54,
     "metadata": {},
     "output_type": "execute_result"
    }
   ],
   "source": [
    "len(list6)"
   ]
  },
  {
   "cell_type": "code",
   "execution_count": null,
   "metadata": {},
   "outputs": [],
   "source": [
    "#Detects category 7\n",
    "(r'7\\. \\(ii?\\).* [Ss]hareholdings.*((?:\\n.*?)*?(\\d\\. ))+?')"
   ]
  },
  {
   "cell_type": "code",
   "execution_count": 70,
   "metadata": {},
   "outputs": [],
   "source": [
    "list7 = []\n",
    "for person in data_list:\n",
    "    Name = person[0]\n",
    "    donor = None\n",
    "    raw_data = person[1]\n",
    "    check_cat7 = re.search(r'7\\. \\(ii?\\).* [Ss]hareholdings.*((?:\\n.*?)*?(\\d\\. ))+?', raw_data)\n",
    "    if check_cat7 == None:\n",
    "        value = False\n",
    "    else:\n",
    "        value = True\n",
    "    list = [Name,'7',donor,value]\n",
    "    list7.append(list)"
   ]
  },
  {
   "cell_type": "code",
   "execution_count": 162,
   "metadata": {},
   "outputs": [],
   "source": [
    "list0 = []\n",
    "for person in data_list:\n",
    "    Name = person[0]\n",
    "    donor = None\n",
    "    value = 0\n",
    "    list = [Name,'0',donor,value]\n",
    "    list0.append(list)"
   ]
  },
  {
   "cell_type": "code",
   "execution_count": 163,
   "metadata": {},
   "outputs": [
    {
     "name": "stdout",
     "output_type": "stream",
     "text": [
      "[['Diane Abbott', '0', None, 0], ['Debbie Abrahams', '0', None, 0], ['Nigel Adams', '0', None, 0], ['Bim Afolami', '0', None, 0], ['Adam Afriyie', '0', None, 0], ['Imran Khan', '0', None, 0], ['Nickie Aiken', '0', None, 0], ['Peter Aldous', '0', None, 0], ['Rushanara Ali', '0', None, 0], ['Tahir Ali', '0', None, 0], ['Lucy Allan', '0', None, 0], ['Rosena Khan', '0', None, 0], ['Mike Amesbury', '0', None, 0], ['David Amess', '0', None, 0], ['Fleur Anderson', '0', None, 0], ['Lee Anderson', '0', None, 0], ['Stuart Anderson', '0', None, 0], ['Stuart Andrew', '0', None, 0], ['Caroline Ansell', '0', None, 0], ['Tonia Antoniazzi', '0', None, 0], ['Edward Argar', '0', None, 0], ['Jonathan Ashworth', '0', None, 0], ['Sarah Atherton', '0', None, 0], ['Victoria Atkins', '0', None, 0], ['Gareth Bacon', '0', None, 0], ['Richard Bacon', '0', None, 0], ['Kemi Badenoch', '0', None, 0], ['Shaun Bailey', '0', None, 0], ['Siobhan Baillie', '0', None, 0], ['Duncan Baker', '0', None, 0], ['Steve Baker', '0', None, 0], ['Harriett Baldwin', '0', None, 0], ['Steve Barclay', '0', None, 0], ['Hannah Bardell', '0', None, 0], ['Paula Barker', '0', None, 0], ['John Baron', '0', None, 0], ['Simon Baynes', '0', None, 0], ['Margaret Beckett', '0', None, 0], ['Apsana Begum', '0', None, 0], ['Aaron Bell', '0', None, 0], ['Hilary Benn', '0', None, 0], ['Scott Benton', '0', None, 0], ['Paul Beresford', '0', None, 0], ['Jake Berry', '0', None, 0], ['Clive Betts', '0', None, 0], ['Saqib Bhatti', '0', None, 0], ['Mhairi Black', '0', None, 0], ['Ian Blackford', '0', None, 0], ['Bob Blackman', '0', None, 0], ['Kirsty Blackman', '0', None, 0], ['Olivia Blake', '0', None, 0], ['Paul Blomfield', '0', None, 0], ['Crispin Blunt', '0', None, 0], ['Peter Bone', '0', None, 0], ['Steven Bonnar', '0', None, 0], ['Peter Bottomley', '0', None, 0], ['Andrew Bowie', '0', None, 0], ['Tracy Brabin', '0', None, 0], ['Ben Bradley', '0', None, 0], ['Karen Bradley', '0', None, 0], ['Ben Bradshaw', '0', None, 0], ['Graham Brady', '0', None, 0], ['Mickey Brady', '0', None, 0], ['Suella Braverman', '0', None, 0], ['Kevin Brennan', '0', None, 0], ['Jack Brereton', '0', None, 0], ['Andrew Bridgen', '0', None, 0], ['Steve Brine', '0', None, 0], ['Paul Bristow', '0', None, 0], ['Sara Britcliffe', '0', None, 0], ['Deidre Brock', '0', None, 0], ['James Brokenshire', '0', None, 0], ['Alan Brown', '0', None, 0], ['Lyn Brown', '0', None, 0], ['Nicholas Brown', '0', None, 0], ['Anthony Browne', '0', None, 0], ['Fiona Bruce', '0', None, 0], ['Chris Bryant', '0', None, 0], ['Felicity Buchan', '0', None, 0], ['Karen Buck', '0', None, 0], ['Robert Buckland', '0', None, 0], ['Alex Burghart', '0', None, 0], ['Richard Burgon', '0', None, 0], ['Conor Burns', '0', None, 0], ['Dawn Butler', '0', None, 0], ['Rob Butler', '0', None, 0], ['Ian Byrne', '0', None, 0], ['Liam Byrne', '0', None, 0], ['Ruth Cadbury', '0', None, 0], ['Alun Cairns', '0', None, 0], ['Amy Callaghan', '0', None, 0], ['Lisa Cameron', '0', None, 0], ['Alan Campbell', '0', None, 0], ['Gregory Campbell', '0', None, 0], ['Dan Carden', '0', None, 0], ['Alistair Carmichael', '0', None, 0], ['Andy Carter', '0', None, 0], ['James Cartlidge', '0', None, 0], ['William Cash', '0', None, 0], ['Miriam Cates', '0', None, 0], ['Maria Caulfield', '0', None, 0], ['Alex Chalk', '0', None, 0], ['Wendy Chamberlain', '0', None, 0], ['Sarah Champion', '0', None, 0], ['Douglas Chapman', '0', None, 0], ['Bambos Charalambous', '0', None, 0], ['Joanna Cherry', '0', None, 0], ['Rehman Chishti', '0', None, 0], ['Christopher Chope', '0', None, 0], ['Jo Churchill', '0', None, 0], ['Feryal Clark', '0', None, 0], ['Greg Clark', '0', None, 0], ['Simon Clarke', '0', None, 0], ['Theo Clarke', '0', None, 0], ['Brendan Smith', '0', None, 0], ['Chris Clarkson', '0', None, 0], ['James Cleverly', '0', None, 0], ['Geoffrey Brown', '0', None, 0], ['Thérèse Coffey', '0', None, 0], ['Elliot Colburn', '0', None, 0], ['Damian Collins', '0', None, 0], ['Daisy Cooper', '0', None, 0], ['Rosie Cooper', '0', None, 0], ['Yvette Cooper', '0', None, 0], ['Jeremy Corbyn', '0', None, 0], ['Alberto Costa', '0', None, 0], ['Robert Courts', '0', None, 0], ['Claire Coutinho', '0', None, 0], ['Ronnie Cowan', '0', None, 0], ['Geoffrey Cox', '0', None, 0], ['Neil Coyle', '0', None, 0], ['Stephen Crabb', '0', None, 0], ['Angela Crawley', '0', None, 0], ['Stella Creasy', '0', None, 0], ['Virginia Crosbie', '0', None, 0], ['Tracey Crouch', '0', None, 0], ['Jon Cruddas', '0', None, 0], ['John Cryer', '0', None, 0], ['Judith Cummins', '0', None, 0], ['Alex Cunningham', '0', None, 0], ['Janet Daby', '0', None, 0], ['James Daly', '0', None, 0], ['Edward Davey', '0', None, 0], ['Wayne David', '0', None, 0], ['Gareth Davies', '0', None, 0], ['Geraint Davies', '0', None, 0], ['James Davies', '0', None, 0], ['Mims Davies', '0', None, 0], ['Philip Davies', '0', None, 0], ['Alex Jones', '0', None, 0], ['David Davis', '0', None, 0], ['Dehenna Davison', '0', None, 0], ['Martyn Day', '0', None, 0], ['Marsha Cordova', '0', None, 0], ['Thangam Debbonaire', '0', None, 0], ['Caroline Dinenage', '0', None, 0], ['Sarah Dines', '0', None, 0], ['Jonathan Djanogly', '0', None, 0], ['Leo Docherty', '0', None, 0], ['Martin Hughes', '0', None, 0], ['Anneliese Dodds', '0', None, 0], ['Michelle Donelan', '0', None, 0], ['Dave Doogan', '0', None, 0], ['Allan Dorans', '0', None, 0], ['Nadine Dorries', '0', None, 0], ['Steve Double', '0', None, 0], ['Stephen Doughty', '0', None, 0], ['Peter Dowd', '0', None, 0], ['Oliver Dowden', '0', None, 0], ['Watford Hospice', '0', None, 0], ['Jackie Price', '0', None, 0], ['Richard Drax', '0', None, 0], ['Jack Dromey', '0', None, 0], ['Flick Drummond', '0', None, 0], ['James Duddridge', '0', None, 0], ['Rosie Duffield', '0', None, 0], ['David Duguid', '0', None, 0], ['Iain Smith', '0', None, 0], ['Philip Dunne', '0', None, 0], ['Angela Eagle', '0', None, 0], ['Maria Eagle', '0', None, 0], ['Colum Eastwood', '0', None, 0], ['Mark Eastwood', '0', None, 0], ['Jonathan Edwards', '0', None, 0], ['Ruth Edwards', '0', None, 0], ['Clive Efford', '0', None, 0], ['Julie Elliott', '0', None, 0], ['Michael Ellis', '0', None, 0], ['Tobias Ellwood', '0', None, 0], ['Chris Elmore', '0', None, 0], ['Natalie Elphicke', '0', None, 0], ['Florence Eshalomi', '0', None, 0], ['Bill Esterson', '0', None, 0], ['George Eustice', '0', None, 0], ['Chris Evans', '0', None, 0], ['Luke Evans', '0', None, 0], ['Nigel Evans', '0', None, 0], ['David Evennett', '0', None, 0], ['Ben Everitt', '0', None, 0], ['Michael Fabricant', '0', None, 0], ['Laura Farris', '0', None, 0], ['Tim Farron', '0', None, 0], ['Stephen Farry', '0', None, 0], ['Simon Fell', '0', None, 0], ['Marion Fellows', '0', None, 0], ['Margaret Ferrier', '0', None, 0], ['John Finucane', '0', None, 0], ['Colleen Fletcher', '0', None, 0], ['Katherine Fletcher', '0', None, 0], ['Mark Fletcher', '0', None, 0], ['Nick Fletcher', '0', None, 0], ['Stephen Flynn', '0', None, 0], ['Vicky Ford', '0', None, 0], ['Kevin Foster', '0', None, 0], ['Yvonne Fovargue', '0', None, 0], ['Liam Fox', '0', None, 0], ['Vicky Foxcroft', '0', None, 0], ['Kelly Foy', '0', None, 0], ['Mark Francois', '0', None, 0], ['Lucy Frazer', '0', None, 0], ['George Freeman', '0', None, 0], ['Mike Freer', '0', None, 0], ['Richard Fuller', '0', None, 0], ['Gill Furniss', '0', None, 0], ['Marcus Fysh', '0', None, 0], ['Roger Gale', '0', None, 0], ['Barry Gardiner', '0', None, 0], ['Mark Garnier', '0', None, 0], ['Nusrat Ghani', '0', None, 0], ['Nick Gibb', '0', None, 0], ['Patricia Gibson', '0', None, 0], ['Peter Gibson', '0', None, 0], ['Jo Gideon', '0', None, 0], ['Michelle Gildernew', '0', None, 0], ['Kaur Gill', '0', None, 0], ['Cheryl Gillan', '0', None, 0], ['Paul Girvan', '0', None, 0], ['John Glen', '0', None, 0], ['Mary Glindon', '0', None, 0], ['Robert Goodwill', '0', None, 0], ['Michael Gove', '0', None, 0], ['Patrick Grady', '0', None, 0], ['Richard Graham', '0', None, 0], ['Helen Grant', '0', None, 0], ['Peter Grant', '0', None, 0], ['James Gray', '0', None, 0], ['Neil Gray', '0', None, 0], ['Chris Grayling', '0', None, 0], ['Chris Green', '0', None, 0], ['Damian Green', '0', None, 0], ['Kate Green', '0', None, 0], ['Lilian Greenwood', '0', None, 0], ['Margaret Greenwood', '0', None, 0], ['Andrew Griffith', '0', None, 0], ['Nia Griffith', '0', None, 0], ['Kate Griffiths', '0', None, 0], ['James Grundy', '0', None, 0], ['Jonathan Gullis', '0', None, 0], ['Andrew Gwynne', '0', None, 0], ['Louise Haigh', '0', None, 0], ['Robert Halfon', '0', None, 0], ['Luke Hall', '0', None, 0], ['Fabian Hamilton', '0', None, 0], ['Stephen Hammond', '0', None, 0], ['Matt Hancock', '0', None, 0], ['Greg Hands', '0', None, 0], ['Claire Hanna', '0', None, 0], ['Neale Hanvey', '0', None, 0], ['Emma Hardy', '0', None, 0], ['Harriet Harman', '0', None, 0], ['Mark Harper', '0', None, 0], ['Carolyn Harris', '0', None, 0], ['Rebecca Harris', '0', None, 0], ['Trudy Harrison', '0', None, 0], ['Simon Hart', '0', None, 0], ['Helen Hayes', '0', None, 0], ['John Hayes', '0', None, 0], ['Chris Hazzard', '0', None, 0], ['Oliver Heald', '0', None, 0], ['John Healey', '0', None, 0], ['James Heappey', '0', None, 0], ['Chris Harris', '0', None, 0], ['Gordon Henderson', '0', None, 0], ['Mark Hendrick', '0', None, 0], ['Drew Hendry', '0', None, 0], ['Darren Henry', '0', None, 0], ['Antony Higginbotham', '0', None, 0], ['Mike Hill', '0', None, 0], ['Meg Hillier', '0', None, 0], ['Damian Hinds', '0', None, 0], ['Simon Hoare', '0', None, 0], ['Wera Hobhouse', '0', None, 0], ['Margaret Hodge', '0', None, 0], ['Sharon Hodgson', '0', None, 0], ['Richard Holden', '0', None, 0], ['Kate Hollern', '0', None, 0], ['Kevin Hollinrake', '0', None, 0], ['Philip Hollobone', '0', None, 0], ['Adam Holloway', '0', None, 0], ['Paul Holmes', '0', None, 0], ['Rachel Hopkins', '0', None, 0], ['Stewart Hosie', '0', None, 0], ['George Howarth', '0', None, 0], ['John Howell', '0', None, 0], ['Australia VIC', '0', None, 0], ['Paul Howell', '0', None, 0], ['Lindsay Hoyle', '0', None, 0], ['Nigel Huddleston', '0', None, 0], ['Neil Hudson', '0', None, 0], ['Eddie Hughes', '0', None, 0], ['Jane Hunt', '0', None, 0], ['Jeremy Hunt', '0', None, 0], ['Tom Hunt', '0', None, 0], ['Rupa Huq', '0', None, 0], ['Imran Hussain', '0', None, 0], ['Alister Jack', '0', None, 0], ['Christine Jardine', '0', None, 0], ['Dan Jarvis', '0', None, 0], ['Sajid Javid', '0', None, 0], ['Ranil Jayawardena', '0', None, 0], ['Bernard Jenkin', '0', None, 0], ['Mark Jenkinson', '0', None, 0], ['Andrea Jenkyns', '0', None, 0], ['Robert Jenrick', '0', None, 0], ['Boris Johnson', '0', None, 0], ['Caroline Johnson', '0', None, 0], ['Diana Johnson', '0', None, 0], ['Gareth Johnson', '0', None, 0], ['Kim Johnson', '0', None, 0], ['David Johnston', '0', None, 0], ['Andrew Jones', '0', None, 0], ['Darren Jones', '0', None, 0], ['David Jones', '0', None, 0], ['Fay Jones', '0', None, 0], ['Gerald Jones', '0', None, 0], ['Kevan Jones', '0', None, 0], ['Marcus Jones', '0', None, 0], ['Ruth Jones', '0', None, 0], ['Sarah Jones', '0', None, 0], ['Simon Jupp', '0', None, 0], ['Mike Kane', '0', None, 0], ['Daniel Kawczynski', '0', None, 0], ['Alicia Kearns', '0', None, 0], ['Gillian Keegan', '0', None, 0], ['Barbara Keeley', '0', None, 0], ['Liz Kendall', '0', None, 0], ['Afzal Khan', '0', None, 0], ['Stephen Kinnock', '0', None, 0], ['Greg Knight', '0', None, 0], ['Julian Knight', '0', None, 0], ['Danny Kruger', '0', None, 0], ['Kwasi Kwarteng', '0', None, 0], ['Peter Kyle', '0', None, 0], ['Eleanor Laing', '0', None, 0], ['Ben Lake', '0', None, 0], ['David Lammy', '0', None, 0], ['John Lamont', '0', None, 0], ['Robert Largan', '0', None, 0], ['Pauline Latham', '0', None, 0], ['Ian Lavery', '0', None, 0], ['Chris Law', '0', None, 0], ['Andrea Leadsom', '0', None, 0], ['Edward Leigh', '0', None, 0], ['Ian Levy', '0', None, 0], ['Emma Buck', '0', None, 0], ['Andrew Lewer', '0', None, 0], ['Brandon Lewis', '0', None, 0], ['Clive Lewis', '0', None, 0], ['Julian Lewis', '0', None, 0], ['Ian Grainger', '0', None, 0], ['David Linden', '0', None, 0], ['Tony Lloyd', '0', None, 0], ['Carla Lockhart', '0', None, 0], ['Chris Loder', '0', None, 0], ['Mark Logan', '0', None, 0], ['Rebecca Bailey', '0', None, 0], ['Marco Longhi', '0', None, 0], ['Justmove Director', '0', None, 0], ['Julia Lopez', '0', None, 0], ['Jack Lopresti', '0', None, 0], ['Jonathan Lord', '0', None, 0], ['Tim Loughton', '0', None, 0], ['Caroline Lucas', '0', None, 0], ['Holly Lynch', '0', None, 0], ['Kenny MacAskill', '0', None, 0], ['Craig Mackinlay', '0', None, 0], ['Cherilyn Mackrory', '0', None, 0], ['Rachel Maclean', '0', None, 0], ['Brendan MacNeil', '0', None, 0], ['Justin Madders', '0', None, 0], ['Khalid Mahmood', '0', None, 0], ['Shabana Mahmood', '0', None, 0], ['Alan Mak', '0', None, 0], ['Seema Malhotra', '0', None, 0], ['Kit Malthouse', '0', None, 0], ['Anthony Mangnall', '0', None, 0], ['Scott Mann', '0', None, 0], ['Julie Marson', '0', None, 0], ['Rachael Maskell', '0', None, 0], ['Paul Maskey', '0', None, 0], ['Christian Matheson', '0', None, 0], ['Theresa May', '0', None, 0], ['Jerome Mayhew', '0', None, 0], ['Paul Maynard', '0', None, 0], ['Steve McCabe', '0', None, 0], ['Kerry McCarthy', '0', None, 0], ['Jason McCartney', '0', None, 0], ['Karl McCartney', '0', None, 0], ['Siobhain McDonagh', '0', None, 0], ['Andy McDonald', '0', None, 0], ['Malcolm McDonald', '0', None, 0], ['C McDonald', '0', None, 0], ['John McDonnell', '0', None, 0], ['Pat McFadden', '0', None, 0], ['Conor McGinn', '0', None, 0], ['Alison McGovern', '0', None, 0], ['Catherine McKinnell', '0', None, 0], ['Anne McLaughlin', '0', None, 0], ['Jim McMahon', '0', None, 0], ['Anna McMorrin', '0', None, 0], ['John McNally', '0', None, 0], ['Stephen McPartland', '0', None, 0], ['Esther McVey', '0', None, 0], ['Ian Mearns', '0', None, 0], ['Mark Menzies', '0', None, 0], ['Johnny Mercer', '0', None, 0], ['Huw Merriman', '0', None, 0], ['Stephen Metcalfe', '0', None, 0], ['Edward Miliband', '0', None, 0], ['Robin Millar', '0', None, 0], ['Maria Miller', '0', None, 0], ['Amanda Milling', '0', None, 0], ['Nigel Mills', '0', None, 0], ['Navendu Mishra', '0', None, 0], ['Andrew Mitchell', '0', None, 0], ['Gagan Mohindra', '0', None, 0], ['Francie Molloy', '0', None, 0], ['Carol Monaghan', '0', None, 0], ['Damien Moore', '0', None, 0], ['Robbie Moore', '0', None, 0], ['Layla Moran', '0', None, 0], ['Penny Mordaunt', '0', None, 0], ['Jessica Morden', '0', None, 0], ['Stephen Morgan', '0', None, 0], ['Marie Morris', '0', None, 0], ['David Morris', '0', None, 0], ['Grahame Morris', '0', None, 0], ['James Morris', '0', None, 0], ['Joy Morrissey', '0', None, 0], ['Wendy Morton', '0', None, 0], ['Kieran Mullan', '0', None, 0], ['Holly Croft', '0', None, 0], ['David Mundell', '0', None, 0], ['Ian Murray', '0', None, 0], ['James Murray', '0', None, 0], ['Sheryll Murray', '0', None, 0], ['Andrew Murrison', '0', None, 0], ['Lisa Nandy', '0', None, 0], ['Robert Neill', '0', None, 0], ['Gavin Newlands', '0', None, 0], ['Charlotte Nichols', '0', None, 0], ['Lia Nici', '0', None, 0], ['John Nicolson', '0', None, 0], ['Caroline Nokes', '0', None, 0], ['Jesse Norman', '0', None, 0], ['Alex Norris', '0', None, 0], ['Neil Brien', '0', None, 0], ['Matthew Offord', '0', None, 0], ['Brendan Hara', '0', None, 0], ['Sarah Olney', '0', None, 0], ['Chi Onwurah', '0', None, 0], ['Guy Opperman', '0', None, 0], ['Abena Asare', '0', None, 0], ['Kate Osamor', '0', None, 0], ['Kate Osborne', '0', None, 0], ['Kirsten Oswald', '0', None, 0], ['Taiwo Owatemi', '0', None, 0], ['Sarah Owen', '0', None, 0], ['China Beijing', '0', None, 0], ['Ian Paisley', '0', None, 0], ['Neil Parish', '0', None, 0], ['Priti Patel', '0', None, 0], ['Owen Paterson', '0', None, 0], ['Mark Pawsey', '0', None, 0], ['Stephanie Peacock', '0', None, 0], ['Mike Penning', '0', None, 0], ['Matthew Pennycook', '0', None, 0], ['John Penrose', '0', None, 0], ['Andrew Percy', '0', None, 0], ['Australia VIC', '0', None, 0], ['Toby Perkins', '0', None, 0], ['Jess Phillips', '0', None, 0], ['Bridget Phillipson', '0', None, 0], ['Chris Philp', '0', None, 0], ['Christopher Pincher', '0', None, 0], ['Luke Pollard', '0', None, 0], ['Dan Poulter', '0', None, 0], ['Rebecca Pow', '0', None, 0], ['Lucy Powell', '0', None, 0], ['Victoria Prentis', '0', None, 0], ['Mark Pritchard', '0', None, 0], ['Tom Pursglove', '0', None, 0], ['Jeremy Quin', '0', None, 0], ['Will Quince', '0', None, 0], ['Yasmin Qureshi', '0', None, 0], ['Dominic Raab', '0', None, 0], ['Tom Randall', '0', None, 0], ['Angela Rayner', '0', None, 0], ['John Redwood', '0', None, 0], ['Steve Reed', '0', None, 0], ['Christina Rees', '0', None, 0], ['Jacob Mogg', '0', None, 0], ['Ellie Reeves', '0', None, 0], ['Rachel Reeves', '0', None, 0], ['Jonathan Reynolds', '0', None, 0], ['Bell Addy', '0', None, 0], ['Nicola Richards', '0', None, 0], ['Angela Richardson', '0', None, 0], ['Marie Rimmer', '0', None, 0], ['Rob Roberts', '0', None, 0], ['Laurence Robertson', '0', None, 0], ['Gavin Robinson', '0', None, 0], ['Mary Robinson', '0', None, 0], ['Matt Rodda', '0', None, 0], ['Andrew Rosindell', '0', None, 0], ['Douglas Ross', '0', None, 0], ['Lee Rowley', '0', None, 0], ['Dean Russell', '0', None, 0], ['Lloyd Moyle', '0', None, 0], ['David Rutley', '0', None, 0], ['Gary Sambrook', '0', None, 0], ['Liz Roberts', '0', None, 0], ['Selaine Saxby', '0', None, 0], ['Paul Scully', '0', None, 0], ['Bob Seely', '0', None, 0], ['Andrew Selous', '0', None, 0], ['Naz Shah', '0', None, 0], ['Jim Shannon', '0', None, 0], ['Grant Shapps', '0', None, 0], ['Alok Sharma', '0', None, 0], ['Virendra Sharma', '0', None, 0], ['Barry Sheerman', '0', None, 0], ['Alec Shelbrooke', '0', None, 0], ['Tommy Sheppard', '0', None, 0], ['Tulip Siddiq', '0', None, 0], ['David Simmonds', '0', None, 0], ['Chris Skidmore', '0', None, 0], ['Andy Slaughter', '0', None, 0], ['Alyn Smith', '0', None, 0], ['Cat Smith', '0', None, 0], ['Chloe Smith', '0', None, 0], ['Greg Smith', '0', None, 0], ['Henry Smith', '0', None, 0], ['Jeff Smith', '0', None, 0], ['Julian Smith', '0', None, 0], ['Nick Smith', '0', None, 0], ['Royston Smith', '0', None, 0], ['Karin Smyth', '0', None, 0], ['Alex Sobel', '0', None, 0], ['Amanda Solloway', '0', None, 0], ['John Spellar', '0', None, 0], ['Ben Spencer', '0', None, 0], ['Mark Spencer', '0', None, 0], ['Alexander Stafford', '0', None, 0], ['Keir Starmer', '0', None, 0], ['Chris Stephens', '0', None, 0], ['Andrew Stephenson', '0', None, 0], ['Jo Stevens', '0', None, 0], ['Jane Stevenson', '0', None, 0], ['John Stevenson', '0', None, 0], ['Bob Stewart', '0', None, 0], ['Iain Stewart', '0', None, 0], ['Jamie Stone', '0', None, 0], ['Gary Streeter', '0', None, 0], ['Wes Streeting', '0', None, 0], ['Mel Stride', '0', None, 0], ['Graham Stringer', '0', None, 0], ['Graham Stuart', '0', None, 0], ['Julian Sturdy', '0', None, 0], ['Zarah Sultana', '0', None, 0], ['Rishi Sunak', '0', None, 0], ['James Sunderland', '0', None, 0], ['Desmond Swayne', '0', None, 0], ['Robert Syms', '0', None, 0], ['Mark Tami', '0', None, 0], ['Sam Tarry', '0', None, 0], ['Alison Thewliss', '0', None, 0], ['Derek Thomas', '0', None, 0], ['Gareth Thomas', '0', None, 0], ['Nick Symonds', '0', None, 0], ['Owen Thompson', '0', None, 0], ['Richard Thomson', '0', None, 0], ['Emily Thornberry', '0', None, 0], ['Maggie Throup', '0', None, 0], ['Stephen Timms', '0', None, 0], ['Edward Timpson', '0', None, 0], ['Kelly Tolhurst', '0', None, 0], ['Justin Tomlinson', '0', None, 0], ['Michael Tomlinson', '0', None, 0], ['Craig Tracey', '0', None, 0], ['Jon Trickett', '0', None, 0], ['Laura Trott', '0', None, 0], ['Elizabeth Truss', '0', None, 0], ['Tom Tugendhat', '0', None, 0], ['Karl Turner', '0', None, 0], ['Derek Twigg', '0', None, 0], ['Liz Twist', '0', None, 0], ['Shailesh Vara', '0', None, 0], ['Valerie Vaz', '0', None, 0], ['Martin Vickers', '0', None, 0], ['Matt Vickers', '0', None, 0], ['Theresa Villiers', '0', None, 0], ['Christian Wakeford', '0', None, 0], ['Charles Walker', '0', None, 0], ['Robin Walker', '0', None, 0], ['Ben Wallace', '0', None, 0], ['Jamie Wallis', '0', None, 0], ['David Warburton', '0', None, 0], ['Matt Warman', '0', None, 0], ['Giles Watling', '0', None, 0], ['Suzanne Webb', '0', None, 0], ['Claudia Webbe', '0', None, 0], ['Catherine West', '0', None, 0], ['Matt Western', '0', None, 0], ['Helen Whately', '0', None, 0], ['Heather Wheeler', '0', None, 0], ['Alan Whitehead', '0', None, 0], ['Philippa Whitford', '0', None, 0], ['Mick Whitley', '0', None, 0], ['Craig Whittaker', '0', None, 0], ['John Whittingdale', '0', None, 0], ['Nadia Whittome', '0', None, 0], ['Bill Wiggin', '0', None, 0], ['James Wild', '0', None, 0], ['Craig Williams', '0', None, 0], ['Hywel Williams', '0', None, 0], ['Gavin Williamson', '0', None, 0], ['Munira Wilson', '0', None, 0], ['Sammy Wilson', '0', None, 0], ['Beth Winter', '0', None, 0], ['Rosie Winterton', '0', None, 0], ['Pete Wishart', '0', None, 0], ['Mike Wood', '0', None, 0], ['William Wragg', '0', None, 0], ['Jeremy Wright', '0', None, 0], ['Mohammad Yasin', '0', None, 0], ['Jacob Young', '0', None, 0], ['Nadhim Zahawi', '0', None, 0], ['Daniel Zeichner', '0', None, 0]]\n"
     ]
    }
   ],
   "source": [
    "print(list0)"
   ]
  },
  {
   "cell_type": "code",
   "execution_count": 164,
   "metadata": {},
   "outputs": [],
   "source": [
    "total_list = []\n",
    "list_list = [list2a,list2b,list3,list4,list5,list6,list7,list0]\n",
    "for list in list_list:\n",
    "    for row in list:\n",
    "        total_list.append(row)\n",
    "    "
   ]
  },
  {
   "cell_type": "code",
   "execution_count": 100,
   "metadata": {},
   "outputs": [],
   "source": [
    "# print(total_list)"
   ]
  },
  {
   "cell_type": "code",
   "execution_count": 165,
   "metadata": {},
   "outputs": [],
   "source": [
    "total_columns = ['Name', 'Category', 'Donor', 'Value']\n",
    "total_df = pd.DataFrame(total_list,columns = total_columns)"
   ]
  },
  {
   "cell_type": "code",
   "execution_count": 166,
   "metadata": {
    "scrolled": false
   },
   "outputs": [],
   "source": [
    "pd.set_option(\"display.max_rows\", 50, \"display.max_columns\", 50)\n",
    "# total_df.style"
   ]
  },
  {
   "cell_type": "code",
   "execution_count": 167,
   "metadata": {},
   "outputs": [],
   "source": [
    "total_df['Value'] = total_df['Value'].str.replace('£', '')\n",
    "total_df['Value'] = total_df['Value'].str.replace(',', '')\n",
    "total_df['Value'] = total_df['Value'].str.replace(r'[^0-9]', '')\n",
    "total_df.iloc[83]['Value'] = 2500\n",
    "total_df.iloc[84]['Value'] = 2500\n",
    "total_df.iloc[469]['Value'] = 5000\n",
    "total_df.iloc[229]['Value'] = 7000\n",
    "total_df.iloc[117]['Value'] = 1000\n",
    "total_df.iloc[118]['Value'] = 5000"
   ]
  },
  {
   "cell_type": "code",
   "execution_count": 168,
   "metadata": {
    "scrolled": true
   },
   "outputs": [
    {
     "data": {
      "text/plain": [
       "0       2000.0\n",
       "1       5000.0\n",
       "2       5000.0\n",
       "3       2500.0\n",
       "4       5000.0\n",
       "         ...  \n",
       "3041       NaN\n",
       "3042       NaN\n",
       "3043       NaN\n",
       "3044       NaN\n",
       "3045       NaN\n",
       "Name: Value, Length: 3046, dtype: float64"
      ]
     },
     "execution_count": 168,
     "metadata": {},
     "output_type": "execute_result"
    }
   ],
   "source": [
    "total_df['Value'].astype('float')"
   ]
  },
  {
   "cell_type": "markdown",
   "metadata": {},
   "source": [
    "I want to finish cleaning the dataset by filling in none values. Then I want to consolidate each person based on the sum of their donation values. Then I want to create a category for each individual based on "
   ]
  },
  {
   "cell_type": "code",
   "execution_count": 169,
   "metadata": {},
   "outputs": [],
   "source": [
    "num_total_df = total_df[total_df['Category'] != '6']\n",
    "num_total_df = num_total_df[num_total_df['Category'] != '7']"
   ]
  },
  {
   "cell_type": "code",
   "execution_count": 132,
   "metadata": {},
   "outputs": [
    {
     "name": "stdout",
     "output_type": "stream",
     "text": [
      "<class 'pandas.core.frame.DataFrame'>\n",
      "Int64Index: 1099 entries, 0 to 1098\n",
      "Data columns (total 4 columns):\n",
      " #   Column    Non-Null Count  Dtype \n",
      "---  ------    --------------  ----- \n",
      " 0   Name      1099 non-null   object\n",
      " 1   Category  1099 non-null   object\n",
      " 2   Donor     1099 non-null   object\n",
      " 3   Value     1099 non-null   object\n",
      "dtypes: object(4)\n",
      "memory usage: 82.9+ KB\n"
     ]
    }
   ],
   "source": [
    "num_total_df.info()"
   ]
  },
  {
   "cell_type": "code",
   "execution_count": 170,
   "metadata": {},
   "outputs": [],
   "source": [
    "num_total_df['Value'] = num_total_df['Value'].astype('float')"
   ]
  },
  {
   "cell_type": "code",
   "execution_count": 171,
   "metadata": {
    "scrolled": true
   },
   "outputs": [],
   "source": [
    "donation_recipients = num_total_df.groupby('Name').Value.sum()"
   ]
  },
  {
   "cell_type": "code",
   "execution_count": 182,
   "metadata": {
    "scrolled": true
   },
   "outputs": [
    {
     "name": "stdout",
     "output_type": "stream",
     "text": [
      "                Name    Value\n",
      "0         Aaron Bell      0.0\n",
      "1        Abena Asare      0.0\n",
      "2       Adam Afriyie      0.0\n",
      "3      Adam Holloway  20000.0\n",
      "4         Afzal Khan   1710.0\n",
      "..               ...      ...\n",
      "643    William Wragg      0.0\n",
      "644   Yasmin Qureshi  10000.0\n",
      "645    Yvette Cooper  13040.0\n",
      "646  Yvonne Fovargue   2000.0\n",
      "647    Zarah Sultana  10000.0\n",
      "\n",
      "[648 rows x 2 columns]\n"
     ]
    }
   ],
   "source": [
    "recipient_data = donation_recipients.to_frame('Value')\n",
    "recipient_data = recipient_data.reset_index()\n",
    "print(recipient_data)"
   ]
  },
  {
   "cell_type": "code",
   "execution_count": 143,
   "metadata": {},
   "outputs": [],
   "source": [
    "Names = []\n",
    "for person in data_list:\n",
    "    Names.append(person[0])"
   ]
  },
  {
   "cell_type": "code",
   "execution_count": 180,
   "metadata": {},
   "outputs": [
    {
     "name": "stdout",
     "output_type": "stream",
     "text": [
      "                Name\n",
      "0       Diane Abbott\n",
      "1    Debbie Abrahams\n",
      "2        Nigel Adams\n",
      "3        Bim Afolami\n",
      "4       Adam Afriyie\n",
      "..               ...\n",
      "644    Jeremy Wright\n",
      "645   Mohammad Yasin\n",
      "646      Jacob Young\n",
      "647    Nadhim Zahawi\n",
      "648  Daniel Zeichner\n",
      "\n",
      "[649 rows x 1 columns]\n"
     ]
    }
   ],
   "source": [
    "New_Data = pd.DataFrame(Names,columns = ['Name'])\n",
    "print(New_Data)"
   ]
  },
  {
   "cell_type": "code",
   "execution_count": 156,
   "metadata": {},
   "outputs": [
    {
     "ename": "KeyError",
     "evalue": "'Name'",
     "output_type": "error",
     "traceback": [
      "\u001b[1;31m---------------------------------------------------------------------------\u001b[0m",
      "\u001b[1;31mKeyError\u001b[0m                                  Traceback (most recent call last)",
      "\u001b[1;32m~\\anaconda3\\lib\\site-packages\\pandas\\core\\indexes\\base.py\u001b[0m in \u001b[0;36mget_loc\u001b[1;34m(self, key, method, tolerance)\u001b[0m\n\u001b[0;32m   2888\u001b[0m             \u001b[1;32mtry\u001b[0m\u001b[1;33m:\u001b[0m\u001b[1;33m\u001b[0m\u001b[1;33m\u001b[0m\u001b[0m\n\u001b[1;32m-> 2889\u001b[1;33m                 \u001b[1;32mreturn\u001b[0m \u001b[0mself\u001b[0m\u001b[1;33m.\u001b[0m\u001b[0m_engine\u001b[0m\u001b[1;33m.\u001b[0m\u001b[0mget_loc\u001b[0m\u001b[1;33m(\u001b[0m\u001b[0mcasted_key\u001b[0m\u001b[1;33m)\u001b[0m\u001b[1;33m\u001b[0m\u001b[1;33m\u001b[0m\u001b[0m\n\u001b[0m\u001b[0;32m   2890\u001b[0m             \u001b[1;32mexcept\u001b[0m \u001b[0mKeyError\u001b[0m \u001b[1;32mas\u001b[0m \u001b[0merr\u001b[0m\u001b[1;33m:\u001b[0m\u001b[1;33m\u001b[0m\u001b[1;33m\u001b[0m\u001b[0m\n",
      "\u001b[1;32mpandas\\_libs\\index.pyx\u001b[0m in \u001b[0;36mpandas._libs.index.IndexEngine.get_loc\u001b[1;34m()\u001b[0m\n",
      "\u001b[1;32mpandas\\_libs\\index.pyx\u001b[0m in \u001b[0;36mpandas._libs.index.IndexEngine.get_loc\u001b[1;34m()\u001b[0m\n",
      "\u001b[1;32mpandas\\_libs\\hashtable_class_helper.pxi\u001b[0m in \u001b[0;36mpandas._libs.hashtable.PyObjectHashTable.get_item\u001b[1;34m()\u001b[0m\n",
      "\u001b[1;32mpandas\\_libs\\hashtable_class_helper.pxi\u001b[0m in \u001b[0;36mpandas._libs.hashtable.PyObjectHashTable.get_item\u001b[1;34m()\u001b[0m\n",
      "\u001b[1;31mKeyError\u001b[0m: 'Name'",
      "\nThe above exception was the direct cause of the following exception:\n",
      "\u001b[1;31mKeyError\u001b[0m                                  Traceback (most recent call last)",
      "\u001b[1;32m<ipython-input-156-4030eafa6eef>\u001b[0m in \u001b[0;36m<module>\u001b[1;34m\u001b[0m\n\u001b[0;32m      1\u001b[0m \u001b[0mNew_Data\u001b[0m\u001b[1;33m[\u001b[0m\u001b[1;34m'Value'\u001b[0m\u001b[1;33m]\u001b[0m \u001b[1;33m=\u001b[0m \u001b[1;36m0\u001b[0m\u001b[1;33m\u001b[0m\u001b[1;33m\u001b[0m\u001b[0m\n\u001b[1;32m----> 2\u001b[1;33m \u001b[1;32mfor\u001b[0m \u001b[0mperson\u001b[0m \u001b[1;32min\u001b[0m \u001b[0mdonation_recipients\u001b[0m\u001b[1;33m[\u001b[0m\u001b[1;34m'Name'\u001b[0m\u001b[1;33m]\u001b[0m\u001b[1;33m:\u001b[0m\u001b[1;33m\u001b[0m\u001b[1;33m\u001b[0m\u001b[0m\n\u001b[0m\u001b[0;32m      3\u001b[0m     \u001b[0mprint\u001b[0m\u001b[1;33m(\u001b[0m\u001b[0mperson\u001b[0m\u001b[1;33m)\u001b[0m\u001b[1;33m\u001b[0m\u001b[1;33m\u001b[0m\u001b[0m\n",
      "\u001b[1;32m~\\anaconda3\\lib\\site-packages\\pandas\\core\\series.py\u001b[0m in \u001b[0;36m__getitem__\u001b[1;34m(self, key)\u001b[0m\n\u001b[0;32m    880\u001b[0m \u001b[1;33m\u001b[0m\u001b[0m\n\u001b[0;32m    881\u001b[0m         \u001b[1;32melif\u001b[0m \u001b[0mkey_is_scalar\u001b[0m\u001b[1;33m:\u001b[0m\u001b[1;33m\u001b[0m\u001b[1;33m\u001b[0m\u001b[0m\n\u001b[1;32m--> 882\u001b[1;33m             \u001b[1;32mreturn\u001b[0m \u001b[0mself\u001b[0m\u001b[1;33m.\u001b[0m\u001b[0m_get_value\u001b[0m\u001b[1;33m(\u001b[0m\u001b[0mkey\u001b[0m\u001b[1;33m)\u001b[0m\u001b[1;33m\u001b[0m\u001b[1;33m\u001b[0m\u001b[0m\n\u001b[0m\u001b[0;32m    883\u001b[0m \u001b[1;33m\u001b[0m\u001b[0m\n\u001b[0;32m    884\u001b[0m         if (\n",
      "\u001b[1;32m~\\anaconda3\\lib\\site-packages\\pandas\\core\\series.py\u001b[0m in \u001b[0;36m_get_value\u001b[1;34m(self, label, takeable)\u001b[0m\n\u001b[0;32m    989\u001b[0m \u001b[1;33m\u001b[0m\u001b[0m\n\u001b[0;32m    990\u001b[0m         \u001b[1;31m# Similar to Index.get_value, but we do not fall back to positional\u001b[0m\u001b[1;33m\u001b[0m\u001b[1;33m\u001b[0m\u001b[1;33m\u001b[0m\u001b[0m\n\u001b[1;32m--> 991\u001b[1;33m         \u001b[0mloc\u001b[0m \u001b[1;33m=\u001b[0m \u001b[0mself\u001b[0m\u001b[1;33m.\u001b[0m\u001b[0mindex\u001b[0m\u001b[1;33m.\u001b[0m\u001b[0mget_loc\u001b[0m\u001b[1;33m(\u001b[0m\u001b[0mlabel\u001b[0m\u001b[1;33m)\u001b[0m\u001b[1;33m\u001b[0m\u001b[1;33m\u001b[0m\u001b[0m\n\u001b[0m\u001b[0;32m    992\u001b[0m         \u001b[1;32mreturn\u001b[0m \u001b[0mself\u001b[0m\u001b[1;33m.\u001b[0m\u001b[0mindex\u001b[0m\u001b[1;33m.\u001b[0m\u001b[0m_get_values_for_loc\u001b[0m\u001b[1;33m(\u001b[0m\u001b[0mself\u001b[0m\u001b[1;33m,\u001b[0m \u001b[0mloc\u001b[0m\u001b[1;33m,\u001b[0m \u001b[0mlabel\u001b[0m\u001b[1;33m)\u001b[0m\u001b[1;33m\u001b[0m\u001b[1;33m\u001b[0m\u001b[0m\n\u001b[0;32m    993\u001b[0m \u001b[1;33m\u001b[0m\u001b[0m\n",
      "\u001b[1;32m~\\anaconda3\\lib\\site-packages\\pandas\\core\\indexes\\base.py\u001b[0m in \u001b[0;36mget_loc\u001b[1;34m(self, key, method, tolerance)\u001b[0m\n\u001b[0;32m   2889\u001b[0m                 \u001b[1;32mreturn\u001b[0m \u001b[0mself\u001b[0m\u001b[1;33m.\u001b[0m\u001b[0m_engine\u001b[0m\u001b[1;33m.\u001b[0m\u001b[0mget_loc\u001b[0m\u001b[1;33m(\u001b[0m\u001b[0mcasted_key\u001b[0m\u001b[1;33m)\u001b[0m\u001b[1;33m\u001b[0m\u001b[1;33m\u001b[0m\u001b[0m\n\u001b[0;32m   2890\u001b[0m             \u001b[1;32mexcept\u001b[0m \u001b[0mKeyError\u001b[0m \u001b[1;32mas\u001b[0m \u001b[0merr\u001b[0m\u001b[1;33m:\u001b[0m\u001b[1;33m\u001b[0m\u001b[1;33m\u001b[0m\u001b[0m\n\u001b[1;32m-> 2891\u001b[1;33m                 \u001b[1;32mraise\u001b[0m \u001b[0mKeyError\u001b[0m\u001b[1;33m(\u001b[0m\u001b[0mkey\u001b[0m\u001b[1;33m)\u001b[0m \u001b[1;32mfrom\u001b[0m \u001b[0merr\u001b[0m\u001b[1;33m\u001b[0m\u001b[1;33m\u001b[0m\u001b[0m\n\u001b[0m\u001b[0;32m   2892\u001b[0m \u001b[1;33m\u001b[0m\u001b[0m\n\u001b[0;32m   2893\u001b[0m         \u001b[1;32mif\u001b[0m \u001b[0mtolerance\u001b[0m \u001b[1;32mis\u001b[0m \u001b[1;32mnot\u001b[0m \u001b[1;32mNone\u001b[0m\u001b[1;33m:\u001b[0m\u001b[1;33m\u001b[0m\u001b[1;33m\u001b[0m\u001b[0m\n",
      "\u001b[1;31mKeyError\u001b[0m: 'Name'"
     ]
    }
   ],
   "source": [
    "New_Data['Value'] = 0\n",
    "for person in donation_recipients['Name']:\n",
    "    print(person)"
   ]
  }
 ],
 "metadata": {
  "kernelspec": {
   "display_name": "Python 3",
   "language": "python",
   "name": "python3"
  },
  "language_info": {
   "codemirror_mode": {
    "name": "ipython",
    "version": 3
   },
   "file_extension": ".py",
   "mimetype": "text/x-python",
   "name": "python",
   "nbconvert_exporter": "python",
   "pygments_lexer": "ipython3",
   "version": "3.7.7"
  }
 },
 "nbformat": 4,
 "nbformat_minor": 4
}
